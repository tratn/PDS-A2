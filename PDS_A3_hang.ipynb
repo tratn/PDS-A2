{
 "cells": [
  {
   "cell_type": "markdown",
   "metadata": {
    "id": "SC3dDdpQFfFR"
   },
   "source": [
    "# COSC2789 Practical Data Science\n",
    "# Assignment 2: Data Modeling\n",
    "**Group 4**\n",
    "- Name & ID here\n",
    "\n",
    "**Goal**: To classify income range of survey respondents. \n",
    "\n",
    "**Performance measures** \n",
    "- Accuracy \n",
    "- Recall \n",
    "- F1 score \n",
    "- AUC ROC \n",
    "\n",
    "**Data description** \n",
    "*The dataset contains responses from the 2020 Stack Overflow Developer survey, which is among the largest and most comprehensive survey of software developers.*"
   ]
  },
  {
   "cell_type": "markdown",
   "metadata": {
    "id": "hdtMYpxiE4cS"
   },
   "source": [
    "## Task 1.1 Data Retrieving and Cleaning "
   ]
  },
  {
   "cell_type": "markdown",
   "metadata": {
    "id": "V69uU7VAFXfi"
   },
   "source": [
    "### Setting up"
   ]
  },
  {
   "cell_type": "code",
   "execution_count": 1,
   "metadata": {
    "id": "e21APizp_39A"
   },
   "outputs": [],
   "source": [
    "import pandas as pd\n",
    "import numpy as np\n",
    "import seaborn as sns \n",
    "%matplotlib inline\n",
    "import matplotlib as mpl\n",
    "import matplotlib.pyplot as plt\n",
    "\n",
    "mpl.rc('axes', labelsize=14)\n",
    "mpl.rc('xtick', labelsize=12)\n",
    "mpl.rc('ytick', labelsize=12)"
   ]
  },
  {
   "cell_type": "code",
   "execution_count": 2,
   "metadata": {
    "id": "S8hSyauaEPeY"
   },
   "outputs": [],
   "source": [
    "# Get the data\n",
    "url = 'https://raw.githubusercontent.com/tratn/PDS-A3/main/survey_results_public.csv'\n",
    "survey = pd.read_csv(url, sep=',')"
   ]
  },
  {
   "cell_type": "code",
   "execution_count": 3,
   "metadata": {
    "colab": {
     "base_uri": "https://localhost:8080/",
     "height": 687
    },
    "id": "AkrRYDzREhLL",
    "outputId": "47e36e3a-40f8-4752-c70b-d6e09b140c99"
   },
   "outputs": [
    {
     "data": {
      "text/html": [
       "<div>\n",
       "<style scoped>\n",
       "    .dataframe tbody tr th:only-of-type {\n",
       "        vertical-align: middle;\n",
       "    }\n",
       "\n",
       "    .dataframe tbody tr th {\n",
       "        vertical-align: top;\n",
       "    }\n",
       "\n",
       "    .dataframe thead th {\n",
       "        text-align: right;\n",
       "    }\n",
       "</style>\n",
       "<table border=\"1\" class=\"dataframe\">\n",
       "  <thead>\n",
       "    <tr style=\"text-align: right;\">\n",
       "      <th></th>\n",
       "      <th>Respondent</th>\n",
       "      <th>MainBranch</th>\n",
       "      <th>Hobbyist</th>\n",
       "      <th>Age</th>\n",
       "      <th>Age1stCode</th>\n",
       "      <th>CompFreq</th>\n",
       "      <th>CompTotal</th>\n",
       "      <th>ConvertedComp</th>\n",
       "      <th>Country</th>\n",
       "      <th>CurrencyDesc</th>\n",
       "      <th>...</th>\n",
       "      <th>SurveyEase</th>\n",
       "      <th>SurveyLength</th>\n",
       "      <th>Trans</th>\n",
       "      <th>UndergradMajor</th>\n",
       "      <th>WebframeDesireNextYear</th>\n",
       "      <th>WebframeWorkedWith</th>\n",
       "      <th>WelcomeChange</th>\n",
       "      <th>WorkWeekHrs</th>\n",
       "      <th>YearsCode</th>\n",
       "      <th>YearsCodePro</th>\n",
       "    </tr>\n",
       "  </thead>\n",
       "  <tbody>\n",
       "    <tr>\n",
       "      <th>0</th>\n",
       "      <td>1</td>\n",
       "      <td>I am a developer by profession</td>\n",
       "      <td>Yes</td>\n",
       "      <td>NaN</td>\n",
       "      <td>13</td>\n",
       "      <td>Monthly</td>\n",
       "      <td>NaN</td>\n",
       "      <td>NaN</td>\n",
       "      <td>Germany</td>\n",
       "      <td>European Euro</td>\n",
       "      <td>...</td>\n",
       "      <td>Neither easy nor difficult</td>\n",
       "      <td>Appropriate in length</td>\n",
       "      <td>No</td>\n",
       "      <td>Computer science, computer engineering, or sof...</td>\n",
       "      <td>ASP.NET Core</td>\n",
       "      <td>ASP.NET;ASP.NET Core</td>\n",
       "      <td>Just as welcome now as I felt last year</td>\n",
       "      <td>50.0</td>\n",
       "      <td>36</td>\n",
       "      <td>27</td>\n",
       "    </tr>\n",
       "    <tr>\n",
       "      <th>1</th>\n",
       "      <td>2</td>\n",
       "      <td>I am a developer by profession</td>\n",
       "      <td>No</td>\n",
       "      <td>NaN</td>\n",
       "      <td>19</td>\n",
       "      <td>NaN</td>\n",
       "      <td>NaN</td>\n",
       "      <td>NaN</td>\n",
       "      <td>United Kingdom</td>\n",
       "      <td>Pound sterling</td>\n",
       "      <td>...</td>\n",
       "      <td>NaN</td>\n",
       "      <td>NaN</td>\n",
       "      <td>NaN</td>\n",
       "      <td>Computer science, computer engineering, or sof...</td>\n",
       "      <td>NaN</td>\n",
       "      <td>NaN</td>\n",
       "      <td>Somewhat more welcome now than last year</td>\n",
       "      <td>NaN</td>\n",
       "      <td>7</td>\n",
       "      <td>4</td>\n",
       "    </tr>\n",
       "    <tr>\n",
       "      <th>2</th>\n",
       "      <td>3</td>\n",
       "      <td>I code primarily as a hobby</td>\n",
       "      <td>Yes</td>\n",
       "      <td>NaN</td>\n",
       "      <td>15</td>\n",
       "      <td>NaN</td>\n",
       "      <td>NaN</td>\n",
       "      <td>NaN</td>\n",
       "      <td>Russian Federation</td>\n",
       "      <td>NaN</td>\n",
       "      <td>...</td>\n",
       "      <td>Neither easy nor difficult</td>\n",
       "      <td>Appropriate in length</td>\n",
       "      <td>NaN</td>\n",
       "      <td>NaN</td>\n",
       "      <td>NaN</td>\n",
       "      <td>NaN</td>\n",
       "      <td>Somewhat more welcome now than last year</td>\n",
       "      <td>NaN</td>\n",
       "      <td>4</td>\n",
       "      <td>NaN</td>\n",
       "    </tr>\n",
       "    <tr>\n",
       "      <th>3</th>\n",
       "      <td>4</td>\n",
       "      <td>I am a developer by profession</td>\n",
       "      <td>Yes</td>\n",
       "      <td>25.0</td>\n",
       "      <td>18</td>\n",
       "      <td>NaN</td>\n",
       "      <td>NaN</td>\n",
       "      <td>NaN</td>\n",
       "      <td>Albania</td>\n",
       "      <td>Albanian lek</td>\n",
       "      <td>...</td>\n",
       "      <td>NaN</td>\n",
       "      <td>NaN</td>\n",
       "      <td>No</td>\n",
       "      <td>Computer science, computer engineering, or sof...</td>\n",
       "      <td>NaN</td>\n",
       "      <td>NaN</td>\n",
       "      <td>Somewhat less welcome now than last year</td>\n",
       "      <td>40.0</td>\n",
       "      <td>7</td>\n",
       "      <td>4</td>\n",
       "    </tr>\n",
       "    <tr>\n",
       "      <th>4</th>\n",
       "      <td>5</td>\n",
       "      <td>I used to be a developer by profession, but no...</td>\n",
       "      <td>Yes</td>\n",
       "      <td>31.0</td>\n",
       "      <td>16</td>\n",
       "      <td>NaN</td>\n",
       "      <td>NaN</td>\n",
       "      <td>NaN</td>\n",
       "      <td>United States</td>\n",
       "      <td>NaN</td>\n",
       "      <td>...</td>\n",
       "      <td>Easy</td>\n",
       "      <td>Too short</td>\n",
       "      <td>No</td>\n",
       "      <td>Computer science, computer engineering, or sof...</td>\n",
       "      <td>Django;Ruby on Rails</td>\n",
       "      <td>Ruby on Rails</td>\n",
       "      <td>Just as welcome now as I felt last year</td>\n",
       "      <td>NaN</td>\n",
       "      <td>15</td>\n",
       "      <td>8</td>\n",
       "    </tr>\n",
       "  </tbody>\n",
       "</table>\n",
       "<p>5 rows × 61 columns</p>\n",
       "</div>"
      ],
      "text/plain": [
       "   Respondent                                         MainBranch Hobbyist  \\\n",
       "0           1                     I am a developer by profession      Yes   \n",
       "1           2                     I am a developer by profession       No   \n",
       "2           3                        I code primarily as a hobby      Yes   \n",
       "3           4                     I am a developer by profession      Yes   \n",
       "4           5  I used to be a developer by profession, but no...      Yes   \n",
       "\n",
       "    Age Age1stCode CompFreq  CompTotal  ConvertedComp             Country  \\\n",
       "0   NaN         13  Monthly        NaN            NaN             Germany   \n",
       "1   NaN         19      NaN        NaN            NaN      United Kingdom   \n",
       "2   NaN         15      NaN        NaN            NaN  Russian Federation   \n",
       "3  25.0         18      NaN        NaN            NaN             Albania   \n",
       "4  31.0         16      NaN        NaN            NaN       United States   \n",
       "\n",
       "     CurrencyDesc  ...                  SurveyEase           SurveyLength  \\\n",
       "0   European Euro  ...  Neither easy nor difficult  Appropriate in length   \n",
       "1  Pound sterling  ...                         NaN                    NaN   \n",
       "2             NaN  ...  Neither easy nor difficult  Appropriate in length   \n",
       "3    Albanian lek  ...                         NaN                    NaN   \n",
       "4             NaN  ...                        Easy              Too short   \n",
       "\n",
       "  Trans                                     UndergradMajor  \\\n",
       "0    No  Computer science, computer engineering, or sof...   \n",
       "1   NaN  Computer science, computer engineering, or sof...   \n",
       "2   NaN                                                NaN   \n",
       "3    No  Computer science, computer engineering, or sof...   \n",
       "4    No  Computer science, computer engineering, or sof...   \n",
       "\n",
       "  WebframeDesireNextYear    WebframeWorkedWith  \\\n",
       "0           ASP.NET Core  ASP.NET;ASP.NET Core   \n",
       "1                    NaN                   NaN   \n",
       "2                    NaN                   NaN   \n",
       "3                    NaN                   NaN   \n",
       "4   Django;Ruby on Rails         Ruby on Rails   \n",
       "\n",
       "                              WelcomeChange WorkWeekHrs YearsCode YearsCodePro  \n",
       "0   Just as welcome now as I felt last year        50.0        36           27  \n",
       "1  Somewhat more welcome now than last year         NaN         7            4  \n",
       "2  Somewhat more welcome now than last year         NaN         4          NaN  \n",
       "3  Somewhat less welcome now than last year        40.0         7            4  \n",
       "4   Just as welcome now as I felt last year         NaN        15            8  \n",
       "\n",
       "[5 rows x 61 columns]"
      ]
     },
     "execution_count": 3,
     "metadata": {},
     "output_type": "execute_result"
    }
   ],
   "source": [
    "survey.head()"
   ]
  },
  {
   "cell_type": "code",
   "execution_count": 4,
   "metadata": {
    "colab": {
     "base_uri": "https://localhost:8080/"
    },
    "id": "xhBaPAnIHiG8",
    "outputId": "76dc6c85-02a7-41c7-df10-4973017656be"
   },
   "outputs": [
    {
     "name": "stdout",
     "output_type": "stream",
     "text": [
      "<class 'pandas.core.frame.DataFrame'>\n",
      "RangeIndex: 64461 entries, 0 to 64460\n",
      "Data columns (total 61 columns):\n",
      " #   Column                        Non-Null Count  Dtype  \n",
      "---  ------                        --------------  -----  \n",
      " 0   Respondent                    64461 non-null  int64  \n",
      " 1   MainBranch                    64162 non-null  object \n",
      " 2   Hobbyist                      64416 non-null  object \n",
      " 3   Age                           45446 non-null  float64\n",
      " 4   Age1stCode                    57900 non-null  object \n",
      " 5   CompFreq                      40069 non-null  object \n",
      " 6   CompTotal                     34826 non-null  float64\n",
      " 7   ConvertedComp                 34756 non-null  float64\n",
      " 8   Country                       64072 non-null  object \n",
      " 9   CurrencyDesc                  45472 non-null  object \n",
      " 10  CurrencySymbol                45472 non-null  object \n",
      " 11  DatabaseDesireNextYear        44070 non-null  object \n",
      " 12  DatabaseWorkedWith            49537 non-null  object \n",
      " 13  DevType                       49370 non-null  object \n",
      " 14  EdLevel                       57431 non-null  object \n",
      " 15  Employment                    63854 non-null  object \n",
      " 16  Ethnicity                     45948 non-null  object \n",
      " 17  Gender                        50557 non-null  object \n",
      " 18  JobFactors                    49349 non-null  object \n",
      " 19  JobSat                        45194 non-null  object \n",
      " 20  JobSeek                       51727 non-null  object \n",
      " 21  LanguageDesireNextYear        54113 non-null  object \n",
      " 22  LanguageWorkedWith            57378 non-null  object \n",
      " 23  MiscTechDesireNextYear        42379 non-null  object \n",
      " 24  MiscTechWorkedWith            40314 non-null  object \n",
      " 25  NEWCollabToolsDesireNextYear  47287 non-null  object \n",
      " 26  NEWCollabToolsWorkedWith      52883 non-null  object \n",
      " 27  NEWDevOps                     42686 non-null  object \n",
      " 28  NEWDevOpsImpt                 41732 non-null  object \n",
      " 29  NEWEdImpt                     48465 non-null  object \n",
      " 30  NEWJobHunt                    42286 non-null  object \n",
      " 31  NEWJobHuntResearch            41022 non-null  object \n",
      " 32  NEWLearn                      56156 non-null  object \n",
      " 33  NEWOffTopic                   50804 non-null  object \n",
      " 34  NEWOnboardGood                42623 non-null  object \n",
      " 35  NEWOtherComms                 57205 non-null  object \n",
      " 36  NEWOvertime                   43231 non-null  object \n",
      " 37  NEWPurchaseResearch           37321 non-null  object \n",
      " 38  NEWPurpleLink                 54803 non-null  object \n",
      " 39  NEWSOSites                    58275 non-null  object \n",
      " 40  NEWStuck                      54983 non-null  object \n",
      " 41  OpSys                         56228 non-null  object \n",
      " 42  OrgSize                       44334 non-null  object \n",
      " 43  PlatformDesireNextYear        50605 non-null  object \n",
      " 44  PlatformWorkedWith            53843 non-null  object \n",
      " 45  PurchaseWhat                  39364 non-null  object \n",
      " 46  Sexuality                     43992 non-null  object \n",
      " 47  SOAccount                     56805 non-null  object \n",
      " 48  SOComm                        56476 non-null  object \n",
      " 49  SOPartFreq                    46792 non-null  object \n",
      " 50  SOVisitFreq                   56970 non-null  object \n",
      " 51  SurveyEase                    51802 non-null  object \n",
      " 52  SurveyLength                  51701 non-null  object \n",
      " 53  Trans                         49345 non-null  object \n",
      " 54  UndergradMajor                50995 non-null  object \n",
      " 55  WebframeDesireNextYear        40024 non-null  object \n",
      " 56  WebframeWorkedWith            42279 non-null  object \n",
      " 57  WelcomeChange                 52683 non-null  object \n",
      " 58  WorkWeekHrs                   41151 non-null  float64\n",
      " 59  YearsCode                     57684 non-null  object \n",
      " 60  YearsCodePro                  46349 non-null  object \n",
      "dtypes: float64(4), int64(1), object(56)\n",
      "memory usage: 30.0+ MB\n"
     ]
    }
   ],
   "source": [
    "survey.info()"
   ]
  },
  {
   "cell_type": "code",
   "execution_count": 5,
   "metadata": {
    "colab": {
     "base_uri": "https://localhost:8080/",
     "height": 300
    },
    "id": "bIHtqRh1HmKU",
    "outputId": "d5e31649-15b9-4973-e257-6f05f3ec1ce8"
   },
   "outputs": [
    {
     "data": {
      "text/html": [
       "<div>\n",
       "<style scoped>\n",
       "    .dataframe tbody tr th:only-of-type {\n",
       "        vertical-align: middle;\n",
       "    }\n",
       "\n",
       "    .dataframe tbody tr th {\n",
       "        vertical-align: top;\n",
       "    }\n",
       "\n",
       "    .dataframe thead th {\n",
       "        text-align: right;\n",
       "    }\n",
       "</style>\n",
       "<table border=\"1\" class=\"dataframe\">\n",
       "  <thead>\n",
       "    <tr style=\"text-align: right;\">\n",
       "      <th></th>\n",
       "      <th>Respondent</th>\n",
       "      <th>Age</th>\n",
       "      <th>CompTotal</th>\n",
       "      <th>ConvertedComp</th>\n",
       "      <th>WorkWeekHrs</th>\n",
       "    </tr>\n",
       "  </thead>\n",
       "  <tbody>\n",
       "    <tr>\n",
       "      <th>count</th>\n",
       "      <td>64461.000000</td>\n",
       "      <td>45446.000000</td>\n",
       "      <td>3.482600e+04</td>\n",
       "      <td>3.475600e+04</td>\n",
       "      <td>41151.000000</td>\n",
       "    </tr>\n",
       "    <tr>\n",
       "      <th>mean</th>\n",
       "      <td>32554.079738</td>\n",
       "      <td>30.834111</td>\n",
       "      <td>3.190464e+242</td>\n",
       "      <td>1.037561e+05</td>\n",
       "      <td>40.782174</td>\n",
       "    </tr>\n",
       "    <tr>\n",
       "      <th>std</th>\n",
       "      <td>18967.442360</td>\n",
       "      <td>9.585392</td>\n",
       "      <td>inf</td>\n",
       "      <td>2.268853e+05</td>\n",
       "      <td>17.816383</td>\n",
       "    </tr>\n",
       "    <tr>\n",
       "      <th>min</th>\n",
       "      <td>1.000000</td>\n",
       "      <td>1.000000</td>\n",
       "      <td>0.000000e+00</td>\n",
       "      <td>0.000000e+00</td>\n",
       "      <td>1.000000</td>\n",
       "    </tr>\n",
       "    <tr>\n",
       "      <th>25%</th>\n",
       "      <td>16116.000000</td>\n",
       "      <td>24.000000</td>\n",
       "      <td>2.000000e+04</td>\n",
       "      <td>2.464800e+04</td>\n",
       "      <td>40.000000</td>\n",
       "    </tr>\n",
       "    <tr>\n",
       "      <th>50%</th>\n",
       "      <td>32231.000000</td>\n",
       "      <td>29.000000</td>\n",
       "      <td>6.300000e+04</td>\n",
       "      <td>5.404900e+04</td>\n",
       "      <td>40.000000</td>\n",
       "    </tr>\n",
       "    <tr>\n",
       "      <th>75%</th>\n",
       "      <td>49142.000000</td>\n",
       "      <td>35.000000</td>\n",
       "      <td>1.250000e+05</td>\n",
       "      <td>9.500000e+04</td>\n",
       "      <td>44.000000</td>\n",
       "    </tr>\n",
       "    <tr>\n",
       "      <th>max</th>\n",
       "      <td>65639.000000</td>\n",
       "      <td>279.000000</td>\n",
       "      <td>1.111111e+247</td>\n",
       "      <td>2.000000e+06</td>\n",
       "      <td>475.000000</td>\n",
       "    </tr>\n",
       "  </tbody>\n",
       "</table>\n",
       "</div>"
      ],
      "text/plain": [
       "         Respondent           Age      CompTotal  ConvertedComp   WorkWeekHrs\n",
       "count  64461.000000  45446.000000   3.482600e+04   3.475600e+04  41151.000000\n",
       "mean   32554.079738     30.834111  3.190464e+242   1.037561e+05     40.782174\n",
       "std    18967.442360      9.585392            inf   2.268853e+05     17.816383\n",
       "min        1.000000      1.000000   0.000000e+00   0.000000e+00      1.000000\n",
       "25%    16116.000000     24.000000   2.000000e+04   2.464800e+04     40.000000\n",
       "50%    32231.000000     29.000000   6.300000e+04   5.404900e+04     40.000000\n",
       "75%    49142.000000     35.000000   1.250000e+05   9.500000e+04     44.000000\n",
       "max    65639.000000    279.000000  1.111111e+247   2.000000e+06    475.000000"
      ]
     },
     "execution_count": 5,
     "metadata": {},
     "output_type": "execute_result"
    }
   ],
   "source": [
    "# generate descriptive stats \n",
    "survey.describe()"
   ]
  },
  {
   "cell_type": "code",
   "execution_count": 6,
   "metadata": {
    "id": "cCWiMP5GrVdU"
   },
   "outputs": [],
   "source": [
    "preprocess = survey.copy()"
   ]
  },
  {
   "cell_type": "markdown",
   "metadata": {
    "id": "czxSHiE_H3Qa"
   },
   "source": [
    "### Missing values"
   ]
  },
  {
   "cell_type": "code",
   "execution_count": 7,
   "metadata": {
    "colab": {
     "base_uri": "https://localhost:8080/",
     "height": 1000
    },
    "id": "cTIz1wmqIrxk",
    "outputId": "699d7ca8-7c63-4b52-8a48-37f096bd92b5"
   },
   "outputs": [
    {
     "data": {
      "text/plain": [
       "Respondent                          0\n",
       "MainBranch                        299\n",
       "Hobbyist                           45\n",
       "Age                             19015\n",
       "Age1stCode                       6561\n",
       "CompFreq                        24392\n",
       "CompTotal                       29635\n",
       "ConvertedComp                   29705\n",
       "Country                           389\n",
       "CurrencyDesc                    18989\n",
       "CurrencySymbol                  18989\n",
       "DatabaseDesireNextYear          20391\n",
       "DatabaseWorkedWith              14924\n",
       "DevType                         15091\n",
       "EdLevel                          7030\n",
       "Employment                        607\n",
       "Ethnicity                       18513\n",
       "Gender                          13904\n",
       "JobFactors                      15112\n",
       "JobSat                          19267\n",
       "JobSeek                         12734\n",
       "LanguageDesireNextYear          10348\n",
       "LanguageWorkedWith               7083\n",
       "MiscTechDesireNextYear          22082\n",
       "MiscTechWorkedWith              24147\n",
       "NEWCollabToolsDesireNextYear    17174\n",
       "NEWCollabToolsWorkedWith        11578\n",
       "NEWDevOps                       21775\n",
       "NEWDevOpsImpt                   22729\n",
       "NEWEdImpt                       15996\n",
       "NEWJobHunt                      22175\n",
       "NEWJobHuntResearch              23439\n",
       "NEWLearn                         8305\n",
       "NEWOffTopic                     13657\n",
       "NEWOnboardGood                  21838\n",
       "NEWOtherComms                    7256\n",
       "NEWOvertime                     21230\n",
       "NEWPurchaseResearch             27140\n",
       "NEWPurpleLink                    9658\n",
       "NEWSOSites                       6186\n",
       "NEWStuck                         9478\n",
       "OpSys                            8233\n",
       "OrgSize                         20127\n",
       "PlatformDesireNextYear          13856\n",
       "PlatformWorkedWith              10618\n",
       "PurchaseWhat                    25097\n",
       "Sexuality                       20469\n",
       "SOAccount                        7656\n",
       "SOComm                           7985\n",
       "SOPartFreq                      17669\n",
       "SOVisitFreq                      7491\n",
       "SurveyEase                      12659\n",
       "SurveyLength                    12760\n",
       "Trans                           15116\n",
       "UndergradMajor                  13466\n",
       "WebframeDesireNextYear          24437\n",
       "WebframeWorkedWith              22182\n",
       "WelcomeChange                   11778\n",
       "WorkWeekHrs                     23310\n",
       "YearsCode                        6777\n",
       "YearsCodePro                    18112\n",
       "dtype: int64"
      ]
     },
     "metadata": {},
     "output_type": "display_data"
    }
   ],
   "source": [
    "with pd.option_context('display.max_rows', None):\n",
    "  display(preprocess.isnull().sum())"
   ]
  },
  {
   "cell_type": "markdown",
   "metadata": {
    "id": "gNT5L7h-rg4W"
   },
   "source": [
    "**Mandatory columns** \n",
    "\n",
    "- There are a lot of missing values in columns that correspond to mandatory questions. Since no significant differences can be observed between respondents with and without missing data, it is likely that the data are **missing completely at random**. \n",
    "- As such, it is difficult to infer what the answers might be, hence we will drop the missing data on these columns "
   ]
  },
  {
   "cell_type": "code",
   "execution_count": 8,
   "metadata": {
    "colab": {
     "base_uri": "https://localhost:8080/"
    },
    "id": "k5s2lj4NrfYo",
    "outputId": "15146f82-02aa-45d7-b000-53de82610b5f"
   },
   "outputs": [
    {
     "data": {
      "text/plain": [
       "MainBranch        0\n",
       "Hobbyist          0\n",
       "Country           0\n",
       "CurrencyDesc      0\n",
       "CurrencySymbol    0\n",
       "JobSeek           0\n",
       "dtype: int64"
      ]
     },
     "execution_count": 8,
     "metadata": {},
     "output_type": "execute_result"
    }
   ],
   "source": [
    "# List of mandatory columns. \n",
    "# Respodent ID is assigned automatically, hence not included in this list \n",
    "mandatory_cols = ['MainBranch', 'Hobbyist', 'Country', 'CurrencyDesc', 'CurrencySymbol', 'JobSeek']\n",
    "preprocess.dropna(subset=mandatory_cols, inplace=True)\n",
    "\n",
    "# verify the change\n",
    "preprocess.loc[:, mandatory_cols].isnull().sum()"
   ]
  },
  {
   "cell_type": "markdown",
   "metadata": {
    "id": "2AjcZQabrpm4"
   },
   "source": [
    "**Optional columns**\n",
    "\n",
    "*Compensation*: `CompFreq`, `CompTotal`, `ConvertedComp`\n",
    "- On one hand, compensation frequency must be specified in order to calculate the total compensation amount. On the other hand, it isn't very useful to know the frequency but not the amount of compensation. \n",
    "- Therefore, we will drop any entries that contain missing values on `CompFreq`, then `CompTotal`\n"
   ]
  },
  {
   "cell_type": "code",
   "execution_count": 9,
   "metadata": {
    "colab": {
     "base_uri": "https://localhost:8080/"
    },
    "id": "jAqiS2Uwrouc",
    "outputId": "8b2af7e1-9fa2-488a-bf3f-32129348d7aa"
   },
   "outputs": [
    {
     "data": {
      "text/plain": [
       "CompTotal        False\n",
       "CompFreq         False\n",
       "ConvertedComp     True\n",
       "dtype: bool"
      ]
     },
     "execution_count": 9,
     "metadata": {},
     "output_type": "execute_result"
    }
   ],
   "source": [
    "compensation_cols = ['CompTotal', 'CompFreq', 'ConvertedComp']\n",
    "# drop missing values for CompFreq\n",
    "preprocess.dropna(subset=['CompFreq', 'CompTotal'], axis=0, inplace=True)\n",
    "\n",
    "# verify the change\n",
    "preprocess.loc[:, compensation_cols].isnull().any()"
   ]
  },
  {
   "cell_type": "code",
   "execution_count": 10,
   "metadata": {
    "colab": {
     "base_uri": "https://localhost:8080/",
     "height": 534
    },
    "id": "n6ERHNnyrvLS",
    "outputId": "4c6d909a-dc77-4a3e-ee9d-02ddd182b81d"
   },
   "outputs": [
    {
     "data": {
      "text/html": [
       "<div>\n",
       "<style scoped>\n",
       "    .dataframe tbody tr th:only-of-type {\n",
       "        vertical-align: middle;\n",
       "    }\n",
       "\n",
       "    .dataframe tbody tr th {\n",
       "        vertical-align: top;\n",
       "    }\n",
       "\n",
       "    .dataframe thead th {\n",
       "        text-align: right;\n",
       "    }\n",
       "</style>\n",
       "<table border=\"1\" class=\"dataframe\">\n",
       "  <thead>\n",
       "    <tr style=\"text-align: right;\">\n",
       "      <th></th>\n",
       "      <th>Respondent</th>\n",
       "      <th>MainBranch</th>\n",
       "      <th>Hobbyist</th>\n",
       "      <th>Age</th>\n",
       "      <th>Age1stCode</th>\n",
       "      <th>CompFreq</th>\n",
       "      <th>CompTotal</th>\n",
       "      <th>ConvertedComp</th>\n",
       "      <th>Country</th>\n",
       "      <th>CurrencyDesc</th>\n",
       "      <th>...</th>\n",
       "      <th>SurveyEase</th>\n",
       "      <th>SurveyLength</th>\n",
       "      <th>Trans</th>\n",
       "      <th>UndergradMajor</th>\n",
       "      <th>WebframeDesireNextYear</th>\n",
       "      <th>WebframeWorkedWith</th>\n",
       "      <th>WelcomeChange</th>\n",
       "      <th>WorkWeekHrs</th>\n",
       "      <th>YearsCode</th>\n",
       "      <th>YearsCodePro</th>\n",
       "    </tr>\n",
       "  </thead>\n",
       "  <tbody>\n",
       "    <tr>\n",
       "      <th>7370</th>\n",
       "      <td>7400</td>\n",
       "      <td>I am not primarily a developer, but I write co...</td>\n",
       "      <td>Yes</td>\n",
       "      <td>69.0</td>\n",
       "      <td>Younger than 5 years</td>\n",
       "      <td>Yearly</td>\n",
       "      <td>1000.0</td>\n",
       "      <td>NaN</td>\n",
       "      <td>Angola</td>\n",
       "      <td>e\\tCook Islands dollar</td>\n",
       "      <td>...</td>\n",
       "      <td>Easy</td>\n",
       "      <td>Too long</td>\n",
       "      <td>NaN</td>\n",
       "      <td>NaN</td>\n",
       "      <td>NaN</td>\n",
       "      <td>NaN</td>\n",
       "      <td>NaN</td>\n",
       "      <td>168.0</td>\n",
       "      <td>Less than 1 year</td>\n",
       "      <td>Less than 1 year</td>\n",
       "    </tr>\n",
       "    <tr>\n",
       "      <th>23788</th>\n",
       "      <td>23878</td>\n",
       "      <td>I am a developer by profession</td>\n",
       "      <td>Yes</td>\n",
       "      <td>36.0</td>\n",
       "      <td>11</td>\n",
       "      <td>Yearly</td>\n",
       "      <td>979000.0</td>\n",
       "      <td>NaN</td>\n",
       "      <td>Norway</td>\n",
       "      <td>e\\tCook Islands dollar</td>\n",
       "      <td>...</td>\n",
       "      <td>Easy</td>\n",
       "      <td>Appropriate in length</td>\n",
       "      <td>No</td>\n",
       "      <td>Computer science, computer engineering, or sof...</td>\n",
       "      <td>React.js</td>\n",
       "      <td>Angular;jQuery;React.js;Spring</td>\n",
       "      <td>Just as welcome now as I felt last year</td>\n",
       "      <td>40.0</td>\n",
       "      <td>13</td>\n",
       "      <td>25</td>\n",
       "    </tr>\n",
       "    <tr>\n",
       "      <th>47224</th>\n",
       "      <td>48212</td>\n",
       "      <td>I am not primarily a developer, but I write co...</td>\n",
       "      <td>Yes</td>\n",
       "      <td>33.0</td>\n",
       "      <td>12</td>\n",
       "      <td>Monthly</td>\n",
       "      <td>10000.0</td>\n",
       "      <td>NaN</td>\n",
       "      <td>Denmark</td>\n",
       "      <td>e\\tFaroese krona</td>\n",
       "      <td>...</td>\n",
       "      <td>Neither easy nor difficult</td>\n",
       "      <td>Appropriate in length</td>\n",
       "      <td>No</td>\n",
       "      <td>A humanities discipline (such as literature, h...</td>\n",
       "      <td>Gatsby;React.js;Vue.js</td>\n",
       "      <td>ASP.NET;Drupal;Gatsby;jQuery;React.js</td>\n",
       "      <td>Somewhat less welcome now than last year</td>\n",
       "      <td>27.0</td>\n",
       "      <td>5</td>\n",
       "      <td>3</td>\n",
       "    </tr>\n",
       "    <tr>\n",
       "      <th>55973</th>\n",
       "      <td>57095</td>\n",
       "      <td>I am a developer by profession</td>\n",
       "      <td>Yes</td>\n",
       "      <td>NaN</td>\n",
       "      <td>18</td>\n",
       "      <td>Monthly</td>\n",
       "      <td>5000.0</td>\n",
       "      <td>NaN</td>\n",
       "      <td>India</td>\n",
       "      <td>e\\tCook Islands dollar</td>\n",
       "      <td>...</td>\n",
       "      <td>Easy</td>\n",
       "      <td>Too short</td>\n",
       "      <td>No</td>\n",
       "      <td>Mathematics or statistics</td>\n",
       "      <td>Angular;Express;React.js</td>\n",
       "      <td>Angular;Express;React.js</td>\n",
       "      <td>A lot less welcome now than last year</td>\n",
       "      <td>10.0</td>\n",
       "      <td>7</td>\n",
       "      <td>2</td>\n",
       "    </tr>\n",
       "  </tbody>\n",
       "</table>\n",
       "<p>4 rows × 61 columns</p>\n",
       "</div>"
      ],
      "text/plain": [
       "       Respondent                                         MainBranch Hobbyist  \\\n",
       "7370         7400  I am not primarily a developer, but I write co...      Yes   \n",
       "23788       23878                     I am a developer by profession      Yes   \n",
       "47224       48212  I am not primarily a developer, but I write co...      Yes   \n",
       "55973       57095                     I am a developer by profession      Yes   \n",
       "\n",
       "        Age            Age1stCode CompFreq  CompTotal  ConvertedComp  Country  \\\n",
       "7370   69.0  Younger than 5 years   Yearly     1000.0            NaN   Angola   \n",
       "23788  36.0                    11   Yearly   979000.0            NaN   Norway   \n",
       "47224  33.0                    12  Monthly    10000.0            NaN  Denmark   \n",
       "55973   NaN                    18  Monthly     5000.0            NaN    India   \n",
       "\n",
       "                 CurrencyDesc  ...                  SurveyEase  \\\n",
       "7370   e\\tCook Islands dollar  ...                        Easy   \n",
       "23788  e\\tCook Islands dollar  ...                        Easy   \n",
       "47224        e\\tFaroese krona  ...  Neither easy nor difficult   \n",
       "55973  e\\tCook Islands dollar  ...                        Easy   \n",
       "\n",
       "                SurveyLength Trans  \\\n",
       "7370                Too long   NaN   \n",
       "23788  Appropriate in length    No   \n",
       "47224  Appropriate in length    No   \n",
       "55973              Too short    No   \n",
       "\n",
       "                                          UndergradMajor  \\\n",
       "7370                                                 NaN   \n",
       "23788  Computer science, computer engineering, or sof...   \n",
       "47224  A humanities discipline (such as literature, h...   \n",
       "55973                          Mathematics or statistics   \n",
       "\n",
       "         WebframeDesireNextYear                     WebframeWorkedWith  \\\n",
       "7370                        NaN                                    NaN   \n",
       "23788                  React.js         Angular;jQuery;React.js;Spring   \n",
       "47224    Gatsby;React.js;Vue.js  ASP.NET;Drupal;Gatsby;jQuery;React.js   \n",
       "55973  Angular;Express;React.js               Angular;Express;React.js   \n",
       "\n",
       "                                  WelcomeChange WorkWeekHrs         YearsCode  \\\n",
       "7370                                        NaN       168.0  Less than 1 year   \n",
       "23788   Just as welcome now as I felt last year        40.0                13   \n",
       "47224  Somewhat less welcome now than last year        27.0                 5   \n",
       "55973     A lot less welcome now than last year        10.0                 7   \n",
       "\n",
       "           YearsCodePro  \n",
       "7370   Less than 1 year  \n",
       "23788                25  \n",
       "47224                 3  \n",
       "55973                 2  \n",
       "\n",
       "[4 rows x 61 columns]"
      ]
     },
     "execution_count": 10,
     "metadata": {},
     "output_type": "execute_result"
    }
   ],
   "source": [
    "# check for remaining missing values \n",
    "preprocess[preprocess.loc[:, 'ConvertedComp'].isnull() == True]"
   ]
  },
  {
   "cell_type": "markdown",
   "metadata": {
    "id": "Tg1DeEB7rwg0"
   },
   "source": [
    "It seems that the compensation are paid in more rare types of currency, hence the missing values on `ConvertedComp`. \n",
    "- After some research, we found that Faroese krona has the same fixed exchange rate as Danish Krone (1 to 1) and so we will fill the converted compensation based on that exchange rate. \n",
    "- For Cook Island dollar, we weren't able to find or infer the exchange rate, so the best guess is to drop them. "
   ]
  },
  {
   "cell_type": "code",
   "execution_count": 11,
   "metadata": {
    "colab": {
     "base_uri": "https://localhost:8080/",
     "height": 231
    },
    "id": "qxRgJ5wRryyS",
    "outputId": "0e80a758-ec6e-41c3-961a-765f0c3b2e4a"
   },
   "outputs": [
    {
     "data": {
      "text/html": [
       "<div>\n",
       "<style scoped>\n",
       "    .dataframe tbody tr th:only-of-type {\n",
       "        vertical-align: middle;\n",
       "    }\n",
       "\n",
       "    .dataframe tbody tr th {\n",
       "        vertical-align: top;\n",
       "    }\n",
       "\n",
       "    .dataframe thead th {\n",
       "        text-align: right;\n",
       "    }\n",
       "</style>\n",
       "<table border=\"1\" class=\"dataframe\">\n",
       "  <thead>\n",
       "    <tr style=\"text-align: right;\">\n",
       "      <th></th>\n",
       "      <th>Respondent</th>\n",
       "      <th>MainBranch</th>\n",
       "      <th>Hobbyist</th>\n",
       "      <th>Age</th>\n",
       "      <th>Age1stCode</th>\n",
       "      <th>CompFreq</th>\n",
       "      <th>CompTotal</th>\n",
       "      <th>ConvertedComp</th>\n",
       "      <th>Country</th>\n",
       "      <th>CurrencyDesc</th>\n",
       "      <th>...</th>\n",
       "      <th>SurveyEase</th>\n",
       "      <th>SurveyLength</th>\n",
       "      <th>Trans</th>\n",
       "      <th>UndergradMajor</th>\n",
       "      <th>WebframeDesireNextYear</th>\n",
       "      <th>WebframeWorkedWith</th>\n",
       "      <th>WelcomeChange</th>\n",
       "      <th>WorkWeekHrs</th>\n",
       "      <th>YearsCode</th>\n",
       "      <th>YearsCodePro</th>\n",
       "    </tr>\n",
       "  </thead>\n",
       "  <tbody>\n",
       "    <tr>\n",
       "      <th>755</th>\n",
       "      <td>757</td>\n",
       "      <td>I am a developer by profession</td>\n",
       "      <td>Yes</td>\n",
       "      <td>55.0</td>\n",
       "      <td>23</td>\n",
       "      <td>Monthly</td>\n",
       "      <td>80000.0</td>\n",
       "      <td>138936.0</td>\n",
       "      <td>Denmark</td>\n",
       "      <td>Danish krone</td>\n",
       "      <td>...</td>\n",
       "      <td>Easy</td>\n",
       "      <td>Appropriate in length</td>\n",
       "      <td>No</td>\n",
       "      <td>A natural science (such as biology, chemistry,...</td>\n",
       "      <td>Angular</td>\n",
       "      <td>ASP.NET;jQuery</td>\n",
       "      <td>Just as welcome now as I felt last year</td>\n",
       "      <td>37.0</td>\n",
       "      <td>35</td>\n",
       "      <td>28</td>\n",
       "    </tr>\n",
       "  </tbody>\n",
       "</table>\n",
       "<p>1 rows × 61 columns</p>\n",
       "</div>"
      ],
      "text/plain": [
       "     Respondent                      MainBranch Hobbyist   Age Age1stCode  \\\n",
       "755         757  I am a developer by profession      Yes  55.0         23   \n",
       "\n",
       "    CompFreq  CompTotal  ConvertedComp  Country  CurrencyDesc  ... SurveyEase  \\\n",
       "755  Monthly    80000.0       138936.0  Denmark  Danish krone  ...       Easy   \n",
       "\n",
       "              SurveyLength Trans  \\\n",
       "755  Appropriate in length    No   \n",
       "\n",
       "                                        UndergradMajor WebframeDesireNextYear  \\\n",
       "755  A natural science (such as biology, chemistry,...                Angular   \n",
       "\n",
       "    WebframeWorkedWith                            WelcomeChange WorkWeekHrs  \\\n",
       "755     ASP.NET;jQuery  Just as welcome now as I felt last year        37.0   \n",
       "\n",
       "    YearsCode YearsCodePro  \n",
       "755        35           28  \n",
       "\n",
       "[1 rows x 61 columns]"
      ]
     },
     "execution_count": 11,
     "metadata": {},
     "output_type": "execute_result"
    }
   ],
   "source": [
    "# find the exchange rate for Danish krone \n",
    "preprocess[preprocess.loc[:, 'CurrencySymbol'] == 'DKK'].head(1)"
   ]
  },
  {
   "cell_type": "code",
   "execution_count": 12,
   "metadata": {
    "id": "RlX4_skMr15e"
   },
   "outputs": [],
   "source": [
    "dkk_to_usd = 138936.0/80000.0\n",
    "converted_comp = preprocess.loc[preprocess.index.isin([47224]), 'CompTotal']*dkk_to_usd\n",
    "\n",
    "# fill the missing converted compensation  \n",
    "preprocess.loc[preprocess.index.isin([47224]), 'ConvertedComp'] = converted_comp\n",
    "\n",
    "# while we're at it, let's fix the currency symbol too \n",
    "preprocess.loc[preprocess.index.isin([47224]), 'CurrencyDesc'] = 'Faroese krona'\n",
    "preprocess.loc[preprocess.index.isin([47224]), 'CurrencySymbol'] = 'KR'"
   ]
  },
  {
   "cell_type": "code",
   "execution_count": 13,
   "metadata": {
    "id": "IOuNJCjrr5DV"
   },
   "outputs": [],
   "source": [
    "# drop missing values for Cook Island dollar\n",
    "cols_to_drop = preprocess[preprocess.loc[:, 'ConvertedComp'].isnull() == True].index.tolist()\n",
    "preprocess.drop(index=cols_to_drop, inplace=True)"
   ]
  },
  {
   "cell_type": "markdown",
   "metadata": {
    "id": "abp-1yfMr710"
   },
   "source": [
    "*Age & working hours*\n",
    "- `Age` & `WorkWeekHrs`: these 2 columns are of numerical type, we will impute the missing values with median. "
   ]
  },
  {
   "cell_type": "code",
   "execution_count": 14,
   "metadata": {
    "id": "gKJJ0jZzr7dW"
   },
   "outputs": [],
   "source": [
    "# fill missing age and working hours with median \n",
    "med_age = preprocess['Age'].median()\n",
    "med_hour = preprocess['WorkWeekHrs'].median()\n",
    "preprocess.fillna({'Age':med_age, 'WorkWeekHrs':med_hour}, inplace=True)"
   ]
  },
  {
   "cell_type": "markdown",
   "metadata": {
    "id": "xgnYefTMr_En"
   },
   "source": [
    "*Remaining columns* \n",
    "\n",
    "- For the remaining columns, we will fill missing values with the value 'NotMentioned'. This is because these columns are of categorical type and survey respondents have the option to leave these questions blank if they wish to not answer."
   ]
  },
  {
   "cell_type": "code",
   "execution_count": 15,
   "metadata": {
    "id": "nMMIiIZ1sEbc"
   },
   "outputs": [],
   "source": [
    "cat_cols = preprocess.select_dtypes(include=[object]).columns.tolist()\n",
    "preprocess[cat_cols] = preprocess[cat_cols].fillna(value='NotMentioned')"
   ]
  },
  {
   "cell_type": "code",
   "execution_count": 16,
   "metadata": {
    "colab": {
     "base_uri": "https://localhost:8080/",
     "height": 1000
    },
    "id": "NXNo4GGesE8-",
    "outputId": "5b04ccd3-bc8d-4c69-e6c3-c96cdc7d7560"
   },
   "outputs": [
    {
     "data": {
      "text/plain": [
       "Respondent                      0\n",
       "MainBranch                      0\n",
       "Hobbyist                        0\n",
       "Age                             0\n",
       "Age1stCode                      0\n",
       "CompFreq                        0\n",
       "CompTotal                       0\n",
       "ConvertedComp                   0\n",
       "Country                         0\n",
       "CurrencyDesc                    0\n",
       "CurrencySymbol                  0\n",
       "DatabaseDesireNextYear          0\n",
       "DatabaseWorkedWith              0\n",
       "DevType                         0\n",
       "EdLevel                         0\n",
       "Employment                      0\n",
       "Ethnicity                       0\n",
       "Gender                          0\n",
       "JobFactors                      0\n",
       "JobSat                          0\n",
       "JobSeek                         0\n",
       "LanguageDesireNextYear          0\n",
       "LanguageWorkedWith              0\n",
       "MiscTechDesireNextYear          0\n",
       "MiscTechWorkedWith              0\n",
       "NEWCollabToolsDesireNextYear    0\n",
       "NEWCollabToolsWorkedWith        0\n",
       "NEWDevOps                       0\n",
       "NEWDevOpsImpt                   0\n",
       "NEWEdImpt                       0\n",
       "NEWJobHunt                      0\n",
       "NEWJobHuntResearch              0\n",
       "NEWLearn                        0\n",
       "NEWOffTopic                     0\n",
       "NEWOnboardGood                  0\n",
       "NEWOtherComms                   0\n",
       "NEWOvertime                     0\n",
       "NEWPurchaseResearch             0\n",
       "NEWPurpleLink                   0\n",
       "NEWSOSites                      0\n",
       "NEWStuck                        0\n",
       "OpSys                           0\n",
       "OrgSize                         0\n",
       "PlatformDesireNextYear          0\n",
       "PlatformWorkedWith              0\n",
       "PurchaseWhat                    0\n",
       "Sexuality                       0\n",
       "SOAccount                       0\n",
       "SOComm                          0\n",
       "SOPartFreq                      0\n",
       "SOVisitFreq                     0\n",
       "SurveyEase                      0\n",
       "SurveyLength                    0\n",
       "Trans                           0\n",
       "UndergradMajor                  0\n",
       "WebframeDesireNextYear          0\n",
       "WebframeWorkedWith              0\n",
       "WelcomeChange                   0\n",
       "WorkWeekHrs                     0\n",
       "YearsCode                       0\n",
       "YearsCodePro                    0\n",
       "dtype: int64"
      ]
     },
     "metadata": {},
     "output_type": "display_data"
    }
   ],
   "source": [
    "# verify the change\n",
    "with pd.option_context('display.max_rows', None):\n",
    "  display(preprocess.isnull().sum())"
   ]
  },
  {
   "cell_type": "markdown",
   "metadata": {
    "id": "Sw15_cFOH3gW"
   },
   "source": [
    "### Whitespaces/string manipulation\n"
   ]
  },
  {
   "cell_type": "code",
   "execution_count": 17,
   "metadata": {
    "id": "gBhvBOgPQvlk"
   },
   "outputs": [],
   "source": [
    "# remove whitespace\n",
    "preprocess = preprocess.apply(lambda x: x.str.strip() if x.dtype == \"object\" else x)   \n",
    "# transform letter to lowercase \n",
    "preprocess = preprocess.apply(lambda x: x.str.lower() if x.dtype == \"object\" else x)"
   ]
  },
  {
   "cell_type": "markdown",
   "metadata": {
    "id": "eCfJwAQAIHDu"
   },
   "source": [
    "### Extreme values "
   ]
  },
  {
   "cell_type": "code",
   "execution_count": 18,
   "metadata": {
    "colab": {
     "base_uri": "https://localhost:8080/",
     "height": 300
    },
    "id": "f1KMQgNlQyun",
    "outputId": "fc360d60-10da-4b67-c8b9-adccbf04121d"
   },
   "outputs": [
    {
     "data": {
      "text/html": [
       "<div>\n",
       "<style scoped>\n",
       "    .dataframe tbody tr th:only-of-type {\n",
       "        vertical-align: middle;\n",
       "    }\n",
       "\n",
       "    .dataframe tbody tr th {\n",
       "        vertical-align: top;\n",
       "    }\n",
       "\n",
       "    .dataframe thead th {\n",
       "        text-align: right;\n",
       "    }\n",
       "</style>\n",
       "<table border=\"1\" class=\"dataframe\">\n",
       "  <thead>\n",
       "    <tr style=\"text-align: right;\">\n",
       "      <th></th>\n",
       "      <th>Respondent</th>\n",
       "      <th>Age</th>\n",
       "      <th>CompTotal</th>\n",
       "      <th>ConvertedComp</th>\n",
       "      <th>WorkWeekHrs</th>\n",
       "    </tr>\n",
       "  </thead>\n",
       "  <tbody>\n",
       "    <tr>\n",
       "      <th>count</th>\n",
       "      <td>33779.000000</td>\n",
       "      <td>33779.000000</td>\n",
       "      <td>3.377900e+04</td>\n",
       "      <td>3.377900e+04</td>\n",
       "      <td>33779.000000</td>\n",
       "    </tr>\n",
       "    <tr>\n",
       "      <th>mean</th>\n",
       "      <td>29069.657479</td>\n",
       "      <td>31.960526</td>\n",
       "      <td>3.289355e+242</td>\n",
       "      <td>1.037774e+05</td>\n",
       "      <td>40.733636</td>\n",
       "    </tr>\n",
       "    <tr>\n",
       "      <th>std</th>\n",
       "      <td>18621.806400</td>\n",
       "      <td>8.225053</td>\n",
       "      <td>inf</td>\n",
       "      <td>2.261110e+05</td>\n",
       "      <td>17.554454</td>\n",
       "    </tr>\n",
       "    <tr>\n",
       "      <th>min</th>\n",
       "      <td>8.000000</td>\n",
       "      <td>1.000000</td>\n",
       "      <td>0.000000e+00</td>\n",
       "      <td>0.000000e+00</td>\n",
       "      <td>1.000000</td>\n",
       "    </tr>\n",
       "    <tr>\n",
       "      <th>25%</th>\n",
       "      <td>13280.000000</td>\n",
       "      <td>26.000000</td>\n",
       "      <td>2.000000e+04</td>\n",
       "      <td>2.515150e+04</td>\n",
       "      <td>40.000000</td>\n",
       "    </tr>\n",
       "    <tr>\n",
       "      <th>50%</th>\n",
       "      <td>26463.000000</td>\n",
       "      <td>30.000000</td>\n",
       "      <td>6.300000e+04</td>\n",
       "      <td>5.404900e+04</td>\n",
       "      <td>40.000000</td>\n",
       "    </tr>\n",
       "    <tr>\n",
       "      <th>75%</th>\n",
       "      <td>47221.500000</td>\n",
       "      <td>35.000000</td>\n",
       "      <td>1.250000e+05</td>\n",
       "      <td>9.500000e+04</td>\n",
       "      <td>42.000000</td>\n",
       "    </tr>\n",
       "    <tr>\n",
       "      <th>max</th>\n",
       "      <td>65630.000000</td>\n",
       "      <td>279.000000</td>\n",
       "      <td>1.111111e+247</td>\n",
       "      <td>2.000000e+06</td>\n",
       "      <td>475.000000</td>\n",
       "    </tr>\n",
       "  </tbody>\n",
       "</table>\n",
       "</div>"
      ],
      "text/plain": [
       "         Respondent           Age      CompTotal  ConvertedComp   WorkWeekHrs\n",
       "count  33779.000000  33779.000000   3.377900e+04   3.377900e+04  33779.000000\n",
       "mean   29069.657479     31.960526  3.289355e+242   1.037774e+05     40.733636\n",
       "std    18621.806400      8.225053            inf   2.261110e+05     17.554454\n",
       "min        8.000000      1.000000   0.000000e+00   0.000000e+00      1.000000\n",
       "25%    13280.000000     26.000000   2.000000e+04   2.515150e+04     40.000000\n",
       "50%    26463.000000     30.000000   6.300000e+04   5.404900e+04     40.000000\n",
       "75%    47221.500000     35.000000   1.250000e+05   9.500000e+04     42.000000\n",
       "max    65630.000000    279.000000  1.111111e+247   2.000000e+06    475.000000"
      ]
     },
     "execution_count": 18,
     "metadata": {},
     "output_type": "execute_result"
    }
   ],
   "source": [
    "# check for distribution \n",
    "num_cols = preprocess.select_dtypes(exclude=['object', 'bool'])\n",
    "num_cols.describe()"
   ]
  },
  {
   "cell_type": "markdown",
   "metadata": {
    "id": "MSwu_scmQ0XP"
   },
   "source": [
    "- `Respondent` & `CompTotal`: These two columns are of little importance for our final analysis, so we will leave them as it. Specifically, `Respondent` is just the ID of survey participants, while `CompTotal` includes compensation of varied currency.\n",
    "- `Age` & `WorkWeekHrs`: There are several extreme (and unreasonable) values on these two columns that we will have to deal with. For example, the maximum value for Age is 279 which is questionable. Similarly, the maximum value for number of working hours per week is 475 hours, which is wild since a week only has 168 hours. \n",
    "- `ConvertedComp`: Because we are interested in classifying income range, we will divide the values in this column into 4 categories: **< 25k, < 50k, < 100k, > 100k**"
   ]
  },
  {
   "cell_type": "code",
   "execution_count": 19,
   "metadata": {
    "colab": {
     "base_uri": "https://localhost:8080/",
     "height": 569
    },
    "id": "XNEvxYdpQ2ss",
    "outputId": "d3480d00-78e1-4b13-b792-803bfba451c3"
   },
   "outputs": [
    {
     "data": {
      "image/png": "[encoded data removed]",
      "text/plain": [
       "<Figure size 1440x1080 with 6 Axes>"
      ]
     },
     "metadata": {
      "needs_background": "light"
     },
     "output_type": "display_data"
    }
   ],
   "source": [
    "# Remove extreme values for Age and WorkWeekHrs\n",
    "preprocess.drop(preprocess.loc[preprocess['Age']==279].index, inplace=True)\n",
    "preprocess.drop(preprocess.loc[preprocess['WorkWeekHrs']>(24*7)].index, inplace=True)\n",
    "\n",
    "# Check for distribution again \n",
    "num_cols.hist(bins=50,figsize=(20,15))\n",
    "plt.show()"
   ]
  },
  {
   "cell_type": "code",
   "execution_count": 20,
   "metadata": {
    "id": "ONXI8M4OQ_rT"
   },
   "outputs": [],
   "source": [
    "# Create categories for compensation \n",
    "# preprocess[\"ConvertedComp\"] = pd.cut(preprocess[\"ConvertedComp\"],\n",
    "#                             bins=[0, 25000, 50000, 100000, np.inf], \n",
    "#                             labels=['<25k', '<50k', '<100k', '>100k'],\n",
    "#                             include_lowest=True)"
   ]
  },
  {
   "cell_type": "code",
   "execution_count": 21,
   "metadata": {
    "colab": {
     "base_uri": "https://localhost:8080/",
     "height": 285
    },
    "id": "dtds0ZXgRC4d",
    "outputId": "c92a0b18-54ab-4b82-929b-bae396c32862"
   },
   "outputs": [],
   "source": [
    "# preprocess['ConvertedComp'].hist()"
   ]
  },
  {
   "cell_type": "markdown",
   "metadata": {
    "id": "OYKgJ-3uE_ef"
   },
   "source": [
    "## Task 1.2 Data Exploration"
   ]
  },
  {
   "cell_type": "markdown",
   "metadata": {
    "id": "hFBQo_nORvi9"
   },
   "source": [
    "### Graph 1:"
   ]
  },
  {
   "cell_type": "markdown",
   "metadata": {
    "id": "8U1VGT1dRzmM"
   },
   "source": [
    "### Graph 2:"
   ]
  },
  {
   "cell_type": "markdown",
   "metadata": {
    "id": "ZKBXYGEfR1cu"
   },
   "source": [
    "### Graph 3:"
   ]
  },
  {
   "cell_type": "markdown",
   "metadata": {
    "id": "KSqWV6ezFCpg"
   },
   "source": [
    "## Task 2 Data Modeling\n"
   ]
  },
  {
   "cell_type": "markdown",
   "metadata": {},
   "source": [
    "### 2.1 Feature Engineering"
   ]
  },
  {
   "cell_type": "markdown",
   "metadata": {},
   "source": [
    "#### Cast Age1stCode, YearsCode, YearsCodePro to 'float64' type"
   ]
  },
  {
   "cell_type": "code",
   "execution_count": 22,
   "metadata": {},
   "outputs": [],
   "source": [
    "preprocess['Age1stCode'] = preprocess['Age1stCode'].replace(\"younger than 5 years\", \"4\")\n",
    "preprocess['Age1stCode'] = preprocess['Age1stCode'].replace(\"older than 85\", \"86\")\n",
    "preprocess['Age1stCode'] = preprocess['Age1stCode'].replace(\"notmentioned\", \"14\")\n",
    "\n",
    "preprocess['YearsCode'] = preprocess['YearsCode'].replace(\"less than 1 year\", \"0.5\")\n",
    "preprocess['YearsCode'] = preprocess['YearsCode'].replace(\"more than 50 years\", \"51\")\n",
    "preprocess['YearsCode'] = preprocess['YearsCode'].replace(\"notmentioned\", \"10\")\n",
    "\n",
    "preprocess['YearsCodePro'] = preprocess['YearsCodePro'].replace(\"less than 1 year\", \"0.5\")\n",
    "preprocess['YearsCodePro'] = preprocess['YearsCodePro'].replace(\"more than 50 years\", \"51\")\n",
    "preprocess['YearsCodePro'] = preprocess['YearsCodePro'].replace(\"notmentioned\", \"3\")"
   ]
  },
  {
   "cell_type": "code",
   "execution_count": 23,
   "metadata": {
    "id": "Zeux7iZFSVi-"
   },
   "outputs": [],
   "source": [
    "for col in ['Age1stCode', 'YearsCode', 'YearsCodePro']:\n",
    "    preprocess[col] = preprocess[col].astype('float64')"
   ]
  },
  {
   "cell_type": "markdown",
   "metadata": {},
   "source": [
    "#### Handle impossible values and outliers\n",
    "- The Age of Coding The First Time should not be greater than the Age\n",
    "- Years of Coding Professionally should not be greater than Years of Coding \n",
    "- I will drop rows that contain these impossible values"
   ]
  },
  {
   "cell_type": "code",
   "execution_count": 24,
   "metadata": {},
   "outputs": [],
   "source": [
    "preprocess.drop(preprocess[preprocess['Age1stCode'] > preprocess['Age']].index, inplace = True)\n",
    "preprocess.drop(preprocess[preprocess['YearsCodePro'] > preprocess['YearsCode']].index, inplace = True)"
   ]
  },
  {
   "cell_type": "code",
   "execution_count": 25,
   "metadata": {},
   "outputs": [],
   "source": [
    "outliers_df = preprocess.loc[(preprocess['Age'] > 80) | (preprocess['Age1stCode'] > 75)]\n",
    "preprocess.drop(outliers_df.index, inplace = True)"
   ]
  },
  {
   "cell_type": "code",
   "execution_count": 26,
   "metadata": {},
   "outputs": [],
   "source": [
    "preprocess[preprocess['YearsCode'] > preprocess['Age']]\n",
    "preprocess.loc[preprocess['YearsCode'] > preprocess['Age'], ['Age']] = preprocess['YearsCode'] + preprocess['Age1stCode']"
   ]
  },
  {
   "cell_type": "code",
   "execution_count": null,
   "metadata": {},
   "outputs": [],
   "source": []
  },
  {
   "cell_type": "markdown",
   "metadata": {},
   "source": [
    "#### Add some new features"
   ]
  },
  {
   "cell_type": "code",
   "execution_count": 27,
   "metadata": {},
   "outputs": [],
   "source": [
    "import re\n",
    "\n",
    "def count_unique_value(row):\n",
    "    values = re.split(';', row)\n",
    "        \n",
    "    return len(values)"
   ]
  },
  {
   "cell_type": "code",
   "execution_count": 28,
   "metadata": {},
   "outputs": [],
   "source": [
    "preprocess['Database_Count'] = preprocess['DatabaseWorkedWith'].apply(lambda x: count_unique_value(x))\n",
    "preprocess['Lang_Count'] = preprocess['LanguageWorkedWith'].apply(lambda x: count_unique_value(x))\n",
    "preprocess['Misc_Count'] = preprocess['MiscTechWorkedWith'].apply(lambda x: count_unique_value(x))\n",
    "preprocess['Platform_Count'] = preprocess['PlatformWorkedWith'].apply(lambda x: count_unique_value(x))\n",
    "preprocess['Webframework_Count'] = preprocess['WebframeWorkedWith'].apply(lambda x: count_unique_value(x))\n",
    "preprocess['Total_Count'] = preprocess['Database_Count'] + preprocess['Lang_Count'] + preprocess['Misc_Count'] + preprocess['Platform_Count'] + preprocess['Webframework_Count']"
   ]
  },
  {
   "cell_type": "code",
   "execution_count": 29,
   "metadata": {},
   "outputs": [],
   "source": [
    "# preprocess[\"Description\"] = preprocess[\"Gender\"].astype(str) + \" \"  + preprocess[\"DevType\"].astype(str) + \" \"  + preprocess[\"JobFactors\"].astype(str)"
   ]
  },
  {
   "cell_type": "code",
   "execution_count": 30,
   "metadata": {},
   "outputs": [],
   "source": [
    "# cols = ['Age', 'Age1stCode', 'WorkWeekHrs', 'YearsCode', 'Lang_Count', 'Misc_Count', 'Platform_Count']\n",
    "# sns.pairplot(preprocess[cols], height = 2.5, kind='scatter', diag_kind='hist')"
   ]
  },
  {
   "cell_type": "markdown",
   "metadata": {},
   "source": [
    "#### Correlation Analysis"
   ]
  },
  {
   "cell_type": "code",
   "execution_count": 31,
   "metadata": {},
   "outputs": [
    {
     "data": {
      "image/png": "[encoded data removed]",
      "text/plain": [
       "<Figure size 2160x1440 with 2 Axes>"
      ]
     },
     "metadata": {
      "needs_background": "light"
     },
     "output_type": "display_data"
    }
   ],
   "source": [
    "plt.rcParams['figure.figsize'] = (30, 20)\n",
    "sns.heatmap(preprocess.corr().round(2), annot=True, vmin=-1, vmax=1, center=0,\n",
    "            square=True, cmap = sns.diverging_palette(240, 10, n=9))\n",
    "plt.show()"
   ]
  },
  {
   "cell_type": "markdown",
   "metadata": {},
   "source": [
    "- YearsCode and YearsCodePro are highly correlated, I will use 1 feature for training model\n",
    "- Respondent and CompTotal columns are not correlated to ConvertedComp, I will not use them for the training model"
   ]
  },
  {
   "cell_type": "markdown",
   "metadata": {},
   "source": [
    "#### Feature selection"
   ]
  },
  {
   "cell_type": "code",
   "execution_count": 32,
   "metadata": {},
   "outputs": [
    {
     "data": {
      "text/plain": [
       "['Age',\n",
       " 'Age1stCode',\n",
       " 'ConvertedComp',\n",
       " 'WorkWeekHrs',\n",
       " 'YearsCode',\n",
       " 'YearsCodePro',\n",
       " 'Lang_Count',\n",
       " 'Misc_Count',\n",
       " 'Platform_Count',\n",
       " 'Total_Count']"
      ]
     },
     "execution_count": 32,
     "metadata": {},
     "output_type": "execute_result"
    }
   ],
   "source": [
    "cor = preprocess.corr()\n",
    "# Correlation with output variable\n",
    "cor_target = abs(cor[\"ConvertedComp\"])\n",
    "\n",
    "# Selecting highly correlated features\n",
    "cor_features = cor_target[cor_target > 0.01]\n",
    "num_cols = cor_features.index.to_list()\n",
    "num_cols"
   ]
  },
  {
   "cell_type": "code",
   "execution_count": 33,
   "metadata": {},
   "outputs": [],
   "source": [
    "# Create categories for compensation \n",
    "preprocess[\"ConvertedComp\"] = pd.cut(preprocess[\"ConvertedComp\"],\n",
    "                            bins=[0, 24000, 48000, 96000, np.inf], \n",
    "                            labels=['<24k', '<48k', '<96k', '>96k'],\n",
    "                            include_lowest=True)"
   ]
  },
  {
   "cell_type": "code",
   "execution_count": 34,
   "metadata": {},
   "outputs": [
    {
     "data": {
      "text/plain": [
       "<96k    10135\n",
       ">96k     8276\n",
       "<24k     8043\n",
       "<48k     6944\n",
       "Name: ConvertedComp, dtype: int64"
      ]
     },
     "execution_count": 34,
     "metadata": {},
     "output_type": "execute_result"
    }
   ],
   "source": [
    "preprocess['ConvertedComp'].value_counts()"
   ]
  },
  {
   "cell_type": "code",
   "execution_count": 35,
   "metadata": {},
   "outputs": [],
   "source": [
    "num_feats = ['Age', 'Age1stCode', 'WorkWeekHrs', 'YearsCode', 'YearsCodePro', 'Lang_Count', 'Misc_Count', 'Platform_Count', 'Total_Count']"
   ]
  },
  {
   "cell_type": "code",
   "execution_count": 36,
   "metadata": {},
   "outputs": [],
   "source": [
    "cate_feats = ['MainBranch',\n",
    "              'Hobbyist',\n",
    "              'Country', \n",
    "              'EdLevel',\n",
    "              'Employment',\n",
    "              'JobSat',\n",
    "              'JobSeek',\n",
    "              'NEWEdImpt',\n",
    "              'NEWLearn',\n",
    "              'NEWOffTopic',\n",
    "              'NEWOtherComms',\n",
    "              'NEWOvertime',\n",
    "              'OpSys',\n",
    "              'OrgSize',\n",
    "              'PurchaseWhat',\n",
    "              'SOAccount',\n",
    "              'SOComm',\n",
    "              'SOPartFreq',\n",
    "              'SOVisitFreq',\n",
    "              'UndergradMajor',\n",
    "              'WelcomeChange']\n",
    "\n",
    "# Cast some features to category types \n",
    "for col in cate_feats:\n",
    "    preprocess[col] = pd.Categorical(preprocess[col])"
   ]
  },
  {
   "cell_type": "code",
   "execution_count": 37,
   "metadata": {},
   "outputs": [],
   "source": [
    "# obj_feats = ['Description']"
   ]
  },
  {
   "cell_type": "code",
   "execution_count": 38,
   "metadata": {},
   "outputs": [],
   "source": [
    "ohe_cols = ['DevType', 'JobFactors', 'LanguageWorkedWith', 'PlatformWorkedWith', 'MiscTechWorkedWith', 'DatabaseWorkedWith']"
   ]
  },
  {
   "cell_type": "code",
   "execution_count": 39,
   "metadata": {},
   "outputs": [],
   "source": [
    "df_data = pd.concat([preprocess['ConvertedComp'], preprocess[num_feats], preprocess[cate_feats], preprocess[ohe_cols]], axis=1)"
   ]
  },
  {
   "cell_type": "code",
   "execution_count": 40,
   "metadata": {},
   "outputs": [
    {
     "name": "stdout",
     "output_type": "stream",
     "text": [
      "<class 'pandas.core.frame.DataFrame'>\n",
      "Int64Index: 33398 entries, 7 to 64153\n",
      "Data columns (total 37 columns):\n",
      " #   Column              Non-Null Count  Dtype   \n",
      "---  ------              --------------  -----   \n",
      " 0   ConvertedComp       33398 non-null  category\n",
      " 1   Age                 33398 non-null  float64 \n",
      " 2   Age1stCode          33398 non-null  float64 \n",
      " 3   WorkWeekHrs         33398 non-null  float64 \n",
      " 4   YearsCode           33398 non-null  float64 \n",
      " 5   YearsCodePro        33398 non-null  float64 \n",
      " 6   Lang_Count          33398 non-null  int64   \n",
      " 7   Misc_Count          33398 non-null  int64   \n",
      " 8   Platform_Count      33398 non-null  int64   \n",
      " 9   Total_Count         33398 non-null  int64   \n",
      " 10  MainBranch          33398 non-null  category\n",
      " 11  Hobbyist            33398 non-null  category\n",
      " 12  Country             33398 non-null  category\n",
      " 13  EdLevel             33398 non-null  category\n",
      " 14  Employment          33398 non-null  category\n",
      " 15  JobSat              33398 non-null  category\n",
      " 16  JobSeek             33398 non-null  category\n",
      " 17  NEWEdImpt           33398 non-null  category\n",
      " 18  NEWLearn            33398 non-null  category\n",
      " 19  NEWOffTopic         33398 non-null  category\n",
      " 20  NEWOtherComms       33398 non-null  category\n",
      " 21  NEWOvertime         33398 non-null  category\n",
      " 22  OpSys               33398 non-null  category\n",
      " 23  OrgSize             33398 non-null  category\n",
      " 24  PurchaseWhat        33398 non-null  category\n",
      " 25  SOAccount           33398 non-null  category\n",
      " 26  SOComm              33398 non-null  category\n",
      " 27  SOPartFreq          33398 non-null  category\n",
      " 28  SOVisitFreq         33398 non-null  category\n",
      " 29  UndergradMajor      33398 non-null  category\n",
      " 30  WelcomeChange       33398 non-null  category\n",
      " 31  DevType             33398 non-null  object  \n",
      " 32  JobFactors          33398 non-null  object  \n",
      " 33  LanguageWorkedWith  33398 non-null  object  \n",
      " 34  PlatformWorkedWith  33398 non-null  object  \n",
      " 35  MiscTechWorkedWith  33398 non-null  object  \n",
      " 36  DatabaseWorkedWith  33398 non-null  object  \n",
      "dtypes: category(22), float64(5), int64(4), object(6)\n",
      "memory usage: 5.8+ MB\n"
     ]
    }
   ],
   "source": [
    "df_data.info()"
   ]
  },
  {
   "cell_type": "markdown",
   "metadata": {},
   "source": [
    "#### Extract som information from text features and encoding"
   ]
  },
  {
   "cell_type": "code",
   "execution_count": 41,
   "metadata": {},
   "outputs": [],
   "source": [
    "import re\n",
    "\n",
    "def split_value(dataframe, col):\n",
    "    values_dict = set()\n",
    "\n",
    "    for index, row in dataframe.iterrows():\n",
    "        values = re.split(';', row[col])\n",
    "        for value in values:\n",
    "            values_dict.add(value)\n",
    "    return values_dict"
   ]
  },
  {
   "cell_type": "code",
   "execution_count": 42,
   "metadata": {},
   "outputs": [],
   "source": [
    "# ohe_cols = ['LanguageWorkedWith', 'PlatformWorkedWith', 'MiscTechWorkedWith', 'DatabaseWorkedWith']\n",
    "ohe_cols = df_data.select_dtypes(include=['object']).columns.to_list()"
   ]
  },
  {
   "cell_type": "code",
   "execution_count": 43,
   "metadata": {},
   "outputs": [],
   "source": [
    "for col in ohe_cols:\n",
    "    ohe_col = split_value(df_data, col)\n",
    "    for val in ohe_col:\n",
    "        df_data[col + '_' + val] = np.where(df_data[col].str.contains(val, regex=False), 1, 0)"
   ]
  },
  {
   "cell_type": "code",
   "execution_count": 44,
   "metadata": {},
   "outputs": [],
   "source": [
    "df_data.drop(columns=ohe_cols, inplace=True)"
   ]
  },
  {
   "cell_type": "code",
   "execution_count": 45,
   "metadata": {},
   "outputs": [
    {
     "data": {
      "text/plain": [
       "(33398, 145)"
      ]
     },
     "execution_count": 45,
     "metadata": {},
     "output_type": "execute_result"
    }
   ],
   "source": [
    "df_data.shape"
   ]
  },
  {
   "cell_type": "markdown",
   "metadata": {},
   "source": [
    "### 2.2 Model Training"
   ]
  },
  {
   "cell_type": "code",
   "execution_count": 46,
   "metadata": {},
   "outputs": [],
   "source": [
    "from sklearn.model_selection import train_test_split\n",
    "from sklearn.model_selection import StratifiedShuffleSplit \n",
    "from catboost import CatBoostClassifier\n",
    "\n",
    "from sklearn.metrics import classification_report, confusion_matrix, roc_auc_score, roc_curve, accuracy_score"
   ]
  },
  {
   "cell_type": "markdown",
   "metadata": {},
   "source": [
    "#### Model 1: Features with Catboost algorithm"
   ]
  },
  {
   "cell_type": "markdown",
   "metadata": {},
   "source": [
    "#### Feature set 1"
   ]
  },
  {
   "cell_type": "code",
   "execution_count": 47,
   "metadata": {},
   "outputs": [
    {
     "data": {
      "text/plain": [
       "(30058, 144)"
      ]
     },
     "metadata": {},
     "output_type": "display_data"
    },
    {
     "data": {
      "text/plain": [
       "(3340, 144)"
      ]
     },
     "metadata": {},
     "output_type": "display_data"
    }
   ],
   "source": [
    "splitter= StratifiedShuffleSplit(n_splits=1, random_state=42)\n",
    "\n",
    "X = df_data.iloc[:, 1:]\n",
    "y = df_data[\"ConvertedComp\"]\n",
    "\n",
    "for train,test in splitter.split(X,y):\n",
    "    X_train_SS = X.iloc[train]\n",
    "    y_train_SS = y.iloc[train]\n",
    "    X_test_SS = X.iloc[test]\n",
    "    y_test_SS = y.iloc[test]\n",
    "\n",
    "display(X_train_SS.shape, X_test_SS.shape) "
   ]
  },
  {
   "cell_type": "code",
   "execution_count": 48,
   "metadata": {},
   "outputs": [
    {
     "data": {
      "text/plain": [
       "[9,\n",
       " 10,\n",
       " 11,\n",
       " 12,\n",
       " 13,\n",
       " 14,\n",
       " 15,\n",
       " 16,\n",
       " 17,\n",
       " 18,\n",
       " 19,\n",
       " 20,\n",
       " 21,\n",
       " 22,\n",
       " 23,\n",
       " 24,\n",
       " 25,\n",
       " 26,\n",
       " 27,\n",
       " 28,\n",
       " 29]"
      ]
     },
     "execution_count": 48,
     "metadata": {},
     "output_type": "execute_result"
    }
   ],
   "source": [
    "cate_cols = X_train_SS.select_dtypes(include=['category']).columns.to_list()\n",
    "cat_idx = [X_train_SS.columns.get_loc(col) for col in cate_cols]\n",
    "cat_idx"
   ]
  },
  {
   "cell_type": "code",
   "execution_count": 49,
   "metadata": {},
   "outputs": [],
   "source": [
    "# obj_cols = X_train_SS.select_dtypes(include=['object']).columns.to_list()\n",
    "# obj_idx = [X_train_SS.columns.get_loc(col) for col in obj_cols]\n",
    "# obj_idx"
   ]
  },
  {
   "cell_type": "code",
   "execution_count": 50,
   "metadata": {},
   "outputs": [],
   "source": [
    "model_1 = CatBoostClassifier(\n",
    "    iterations=800,\n",
    "    learning_rate=0.08,\n",
    "    depth=8,\n",
    "    loss_function='MultiClass',\n",
    "    eval_metric='Accuracy',\n",
    "    leaf_estimation_method='Newton',\n",
    "    bagging_temperature=0.2, \n",
    "    reg_lambda=7.898,\n",
    "    od_type='Iter',\n",
    "    metric_period = 100,\n",
    "    od_wait=20\n",
    ")"
   ]
  },
  {
   "cell_type": "code",
   "execution_count": 51,
   "metadata": {},
   "outputs": [
    {
     "name": "stdout",
     "output_type": "stream",
     "text": [
      "0:\tlearn: 0.6058287\ttotal: 232ms\tremaining: 3m 5s\n",
      "100:\tlearn: 0.7013773\ttotal: 21.1s\tremaining: 2m 25s\n",
      "200:\tlearn: 0.7236676\ttotal: 43.8s\tremaining: 2m 10s\n",
      "300:\tlearn: 0.7390711\ttotal: 1m 8s\tremaining: 1m 53s\n",
      "400:\tlearn: 0.7499834\ttotal: 1m 33s\tremaining: 1m 33s\n",
      "500:\tlearn: 0.7597977\ttotal: 1m 58s\tremaining: 1m 11s\n",
      "600:\tlearn: 0.7671834\ttotal: 2m 24s\tremaining: 47.7s\n",
      "700:\tlearn: 0.7757669\ttotal: 2m 51s\tremaining: 24.2s\n",
      "799:\tlearn: 0.7840508\ttotal: 3m 17s\tremaining: 0us\n"
     ]
    },
    {
     "data": {
      "text/plain": [
       "<catboost.core.CatBoostClassifier at 0x7fbc6d8d65e0>"
      ]
     },
     "execution_count": 51,
     "metadata": {},
     "output_type": "execute_result"
    }
   ],
   "source": [
    "model_1.fit(\n",
    "    X_train_SS, y_train_SS, \n",
    "    cat_features=cat_idx,\n",
    "    # text_features=obj_idx\n",
    ")"
   ]
  },
  {
   "cell_type": "code",
   "execution_count": 52,
   "metadata": {},
   "outputs": [],
   "source": [
    "y_pred_SS = model_1.predict(X_test_SS)"
   ]
  },
  {
   "cell_type": "code",
   "execution_count": 53,
   "metadata": {},
   "outputs": [
    {
     "name": "stdout",
     "output_type": "stream",
     "text": [
      "Model accuracy for train set: 0.761\n",
      "Model accuracy for test set: 0.693\n"
     ]
    }
   ],
   "source": [
    "print('Model accuracy for train set: {0:.3f}'.format(model_1.score(X_train_SS, y_train_SS)))\n",
    "print('Model accuracy for test set: {0:.3f}'.format(model_1.score(X_test_SS, y_test_SS)))"
   ]
  },
  {
   "cell_type": "code",
   "execution_count": 54,
   "metadata": {},
   "outputs": [
    {
     "name": "stdout",
     "output_type": "stream",
     "text": [
      "\n",
      "              precision    recall  f1-score   support\n",
      "\n",
      "        <24k       0.81      0.81      0.81       804\n",
      "        <48k       0.57      0.60      0.59       694\n",
      "        <96k       0.63      0.68      0.65      1014\n",
      "        >96k       0.78      0.67      0.72       828\n",
      "\n",
      "    accuracy                           0.69      3340\n",
      "   macro avg       0.70      0.69      0.69      3340\n",
      "weighted avg       0.70      0.69      0.69      3340\n",
      "\n",
      "\n",
      "Confusion Matrix:\n",
      " [[652 119  30   3]\n",
      " [117 415 158   4]\n",
      " [ 28 148 691 147]\n",
      " [ 12  40 219 557]]\n",
      "\n",
      "Accuracy Score:  0.693\n"
     ]
    }
   ],
   "source": [
    "# Classification Report\n",
    "print('\\n{}'.format(classification_report(y_test_SS, y_pred_SS)))\n",
    "\n",
    "# Confusion Matrix\n",
    "cm = confusion_matrix(y_test_SS, y_pred_SS)\n",
    "print('\\nConfusion Matrix:\\n', cm)\n",
    "\n",
    "# Accuracy Score\n",
    "auc = accuracy_score(y_test_SS, y_pred_SS)\n",
    "print('\\nAccuracy Score: ', auc.round(3))"
   ]
  },
  {
   "cell_type": "markdown",
   "metadata": {},
   "source": [
    "#### Hyperparameter tuning for Catboost"
   ]
  },
  {
   "cell_type": "code",
   "execution_count": null,
   "metadata": {},
   "outputs": [],
   "source": [
    "# !pip install optuna\n",
    "\n",
    "# import optuna"
   ]
  },
  {
   "cell_type": "code",
   "execution_count": null,
   "metadata": {},
   "outputs": [],
   "source": [
    "# def cb_objective(trial, trainset):\n",
    "#     train, test = train_test_split(trainset, test_size = 0.2, random_state = 42)\n",
    "#     train = train.reset_index(drop=True)\n",
    "#     test = test.reset_index(drop=True)\n",
    "\n",
    "#     X_train = train.iloc[:, 1:]\n",
    "#     y_train = train[\"ConvertedComp\"]\n",
    "#     X_test = test.iloc[:, 1:]\n",
    "#     y_test = test[\"ConvertedComp\"]\n",
    "    \n",
    "#     cate_feats = X_train.select_dtypes(include=['object']).columns.to_list()\n",
    "#     for col in cate_feats:\n",
    "#         X_train[col] = pd.Categorical(X_train[col])\n",
    "\n",
    "#     cate_cols = X_train.select_dtypes(include=['category']).columns.to_list()\n",
    "#     cat_idx = [X_train.columns.get_loc(col) for col in cate_cols]\n",
    "\n",
    "#     param = {\n",
    "#         'loss_function': 'MultiClass', \n",
    "#         'eval_metric': 'Accuracy',\n",
    "#         'random_state': 42,\n",
    "#         'iterations': trial.suggest_categorical('iterations', [200, 400, 800]),\n",
    "#         'learning_rate' : trial.suggest_categorical('learning_rate', [0.03, 0.05, 0.08, 0.1]),\n",
    "#         'depth': trial.suggest_categorical('depth', [6,8,10,12]),\n",
    "#         'bagging_temperature': trial.suggest_categorical('bagging_temperature', [0.2,0.3,0.4,0.5,0.6,0.7,0.8]),\n",
    "#         'reg_lambda': trial.suggest_loguniform('reg_lambda', 1e-3, 10.0),\n",
    "#         'metric_period': 100\n",
    "#     }\n",
    "\n",
    "#     model = CatBoostClassifier(**param)  \n",
    "    \n",
    "#     model.fit(\n",
    "#         X_train,y_train,\n",
    "#         cat_features=cat_idx\n",
    "#     )\n",
    "    \n",
    "#     y_pred = model.predict(X_test)\n",
    "    \n",
    "#     auc = accuracy_score(y_test, y_pred)\n",
    "    \n",
    "#     return auc"
   ]
  },
  {
   "cell_type": "code",
   "execution_count": null,
   "metadata": {},
   "outputs": [],
   "source": [
    "# study = optuna.create_study(direction=\"maximize\", study_name=\"CBR Classification\")\n",
    "# func = lambda trial: cb_objective(trial, df_data)\n",
    "# study.optimize(func, n_trials=3)"
   ]
  },
  {
   "cell_type": "code",
   "execution_count": null,
   "metadata": {},
   "outputs": [],
   "source": [
    "# print('Number of finished trials:', len(study.trials))\n",
    "# print('Best trial:', study.best_trial.params)"
   ]
  },
  {
   "cell_type": "markdown",
   "metadata": {},
   "source": [
    "#### Catboost Model with param tuning"
   ]
  },
  {
   "cell_type": "code",
   "execution_count": null,
   "metadata": {},
   "outputs": [],
   "source": [
    "splitter= StratifiedShuffleSplit(n_splits=1, random_state=42)\n",
    "\n",
    "X = df_data.iloc[:, 1:]\n",
    "y = df_data[\"ConvertedComp\"]\n",
    "\n",
    "for train,test in splitter.split(X,y):\n",
    "    X_train_SS = X.iloc[train]\n",
    "    y_train_SS = y.iloc[train]\n",
    "    X_test_SS = X.iloc[test]\n",
    "    y_test_SS = y.iloc[test]\n",
    "\n",
    "display(X_train_SS.shape, X_test_SS.shape) "
   ]
  },
  {
   "cell_type": "code",
   "execution_count": null,
   "metadata": {},
   "outputs": [],
   "source": [
    "cate_cols = X_train_SS.select_dtypes(include=['category']).columns.to_list()\n",
    "cat_idx = [X_train_SS.columns.get_loc(col) for col in cate_cols]\n",
    "cat_idx"
   ]
  },
  {
   "cell_type": "code",
   "execution_count": null,
   "metadata": {},
   "outputs": [],
   "source": []
  },
  {
   "cell_type": "code",
   "execution_count": null,
   "metadata": {},
   "outputs": [],
   "source": []
  },
  {
   "cell_type": "code",
   "execution_count": null,
   "metadata": {},
   "outputs": [],
   "source": [
    "model_1 = CatBoostClassifier(\n",
    "    iterations=800,\n",
    "    learning_rate=0.08,\n",
    "    depth=8,\n",
    "    loss_function='MultiClass',\n",
    "    eval_metric='Accuracy',\n",
    "    leaf_estimation_method='Newton',\n",
    "    bagging_temperature=0.2, \n",
    "    reg_lambda=7.898,\n",
    "    od_type='Iter',\n",
    "    metric_period = 100,\n",
    "    od_wait=20\n",
    ")"
   ]
  },
  {
   "cell_type": "code",
   "execution_count": null,
   "metadata": {},
   "outputs": [],
   "source": [
    "model_1.fit(\n",
    "    X_train, y_train, \n",
    "    cat_features=cat_idx,\n",
    ")"
   ]
  },
  {
   "cell_type": "code",
   "execution_count": null,
   "metadata": {},
   "outputs": [],
   "source": [
    "y_pred = model_1.predict(X_test)"
   ]
  },
  {
   "cell_type": "code",
   "execution_count": null,
   "metadata": {},
   "outputs": [],
   "source": [
    "print('Model accuracy for train set: {0:.3f}'.format(model_1.score(X_train, y_train)))\n",
    "print('Model accuracy for test set: {0:.3f}'.format(model_1.score(X_test, y_test)))"
   ]
  },
  {
   "cell_type": "code",
   "execution_count": null,
   "metadata": {},
   "outputs": [],
   "source": [
    "# Classification Report\n",
    "print('\\n{}'.format(classification_report(y_test, y_pred)))\n",
    "\n",
    "# Confusion Matrix\n",
    "cm = confusion_matrix(y_test, y_pred)\n",
    "print('\\nConfusion Matrix:\\n', cm)\n",
    "\n",
    "# Accuracy Score\n",
    "auc = accuracy_score(y_test, y_pred)\n",
    "print('\\nAccuracy Score: ', auc.round(3))"
   ]
  },
  {
   "cell_type": "code",
   "execution_count": null,
   "metadata": {},
   "outputs": [],
   "source": []
  },
  {
   "cell_type": "code",
   "execution_count": null,
   "metadata": {},
   "outputs": [],
   "source": []
  },
  {
   "cell_type": "markdown",
   "metadata": {
    "id": "3QxY9efrFF1D"
   },
   "source": [
    "## Task 3 Model deployment & automation"
   ]
  },
  {
   "cell_type": "code",
   "execution_count": null,
   "metadata": {},
   "outputs": [],
   "source": []
  },
  {
   "cell_type": "code",
   "execution_count": null,
   "metadata": {},
   "outputs": [],
   "source": []
  },
  {
   "cell_type": "code",
   "execution_count": null,
   "metadata": {},
   "outputs": [],
   "source": []
  },
  {
   "cell_type": "code",
   "execution_count": null,
   "metadata": {},
   "outputs": [],
   "source": []
  },
  {
   "cell_type": "code",
   "execution_count": null,
   "metadata": {},
   "outputs": [],
   "source": []
  },
  {
   "cell_type": "markdown",
   "metadata": {
    "id": "xkypbqQNFKVF"
   },
   "source": [
    "## Task 4 Visualisation dashboard"
   ]
  },
  {
   "cell_type": "markdown",
   "metadata": {
    "id": "E9Pu4hlwFM5U"
   },
   "source": []
  }
 ],
 "metadata": {
  "colab": {
   "collapsed_sections": [],
   "name": "PDS-A3.ipynb",
   "provenance": []
  },
  "kernelspec": {
   "display_name": "Python 3 (ipykernel)",
   "language": "python",
   "name": "python3"
  },
  "language_info": {
   "codemirror_mode": {
    "name": "ipython",
    "version": 3
   },
   "file_extension": ".py",
   "mimetype": "text/x-python",
   "name": "python",
   "nbconvert_exporter": "python",
   "pygments_lexer": "ipython3",
   "version": "3.9.7"
  }
 },
 "nbformat": 4,
 "nbformat_minor": 4
}
