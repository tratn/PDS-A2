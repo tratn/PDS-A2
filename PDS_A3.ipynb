{
 "cells": [
  {
   "cell_type": "markdown",
   "metadata": {
    "id": "SC3dDdpQFfFR"
   },
   "source": [
    "# COSC2789 Practical Data Science\n",
    "# Assignment 2: Data Modeling\n",
    "**Group 4**\n",
    "- Name & ID here\n",
    "\n",
    "**Goal**: To classify income range of survey respondents. \n",
    "\n",
    "**Performance measures** \n",
    "- Accuracy \n",
    "- Recall \n",
    "- F1 score \n",
    "- AUC ROC \n",
    "\n",
    "**Data description** \n",
    "*The dataset contains responses from the 2020 Stack Overflow Developer survey, which is among the largest and most comprehensive survey of software developers.*"
   ]
  },
  {
   "cell_type": "markdown",
   "metadata": {
    "id": "hdtMYpxiE4cS"
   },
   "source": [
    "## Task 1.1 Data Retrieving and Cleaning "
   ]
  },
  {
   "cell_type": "markdown",
   "metadata": {
    "id": "V69uU7VAFXfi"
   },
   "source": [
    "### Setting up"
   ]
  },
  {
   "cell_type": "code",
   "execution_count": 1,
   "metadata": {
    "id": "e21APizp_39A"
   },
   "outputs": [],
   "source": [
    "import pandas as pd\n",
    "import numpy as np\n",
    "import seaborn as sns \n",
    "%matplotlib inline\n",
    "import matplotlib as mpl\n",
    "import matplotlib.pyplot as plt\n",
    "\n",
    "mpl.rc('axes', labelsize=14)\n",
    "mpl.rc('xtick', labelsize=12)\n",
    "mpl.rc('ytick', labelsize=12)"
   ]
  },
  {
   "cell_type": "code",
   "execution_count": 2,
   "metadata": {
    "id": "S8hSyauaEPeY"
   },
   "outputs": [],
   "source": [
    "# Get the data\n",
    "url = 'survey_results_public.csv'\n",
    "survey = pd.read_csv(url, sep=',')"
   ]
  },
  {
   "cell_type": "code",
   "execution_count": 3,
   "metadata": {
    "colab": {
     "base_uri": "https://localhost:8080/",
     "height": 687
    },
    "id": "AkrRYDzREhLL",
    "outputId": "aea9ccf6-4faa-4274-b95b-1b80c7323cd9"
   },
   "outputs": [
    {
     "data": {
      "text/html": [
       "<div>\n",
       "<style scoped>\n",
       "    .dataframe tbody tr th:only-of-type {\n",
       "        vertical-align: middle;\n",
       "    }\n",
       "\n",
       "    .dataframe tbody tr th {\n",
       "        vertical-align: top;\n",
       "    }\n",
       "\n",
       "    .dataframe thead th {\n",
       "        text-align: right;\n",
       "    }\n",
       "</style>\n",
       "<table border=\"1\" class=\"dataframe\">\n",
       "  <thead>\n",
       "    <tr style=\"text-align: right;\">\n",
       "      <th></th>\n",
       "      <th>Respondent</th>\n",
       "      <th>MainBranch</th>\n",
       "      <th>Hobbyist</th>\n",
       "      <th>Age</th>\n",
       "      <th>Age1stCode</th>\n",
       "      <th>CompFreq</th>\n",
       "      <th>CompTotal</th>\n",
       "      <th>ConvertedComp</th>\n",
       "      <th>Country</th>\n",
       "      <th>CurrencyDesc</th>\n",
       "      <th>...</th>\n",
       "      <th>SurveyEase</th>\n",
       "      <th>SurveyLength</th>\n",
       "      <th>Trans</th>\n",
       "      <th>UndergradMajor</th>\n",
       "      <th>WebframeDesireNextYear</th>\n",
       "      <th>WebframeWorkedWith</th>\n",
       "      <th>WelcomeChange</th>\n",
       "      <th>WorkWeekHrs</th>\n",
       "      <th>YearsCode</th>\n",
       "      <th>YearsCodePro</th>\n",
       "    </tr>\n",
       "  </thead>\n",
       "  <tbody>\n",
       "    <tr>\n",
       "      <th>0</th>\n",
       "      <td>1</td>\n",
       "      <td>I am a developer by profession</td>\n",
       "      <td>Yes</td>\n",
       "      <td>NaN</td>\n",
       "      <td>13</td>\n",
       "      <td>Monthly</td>\n",
       "      <td>NaN</td>\n",
       "      <td>NaN</td>\n",
       "      <td>Germany</td>\n",
       "      <td>European Euro</td>\n",
       "      <td>...</td>\n",
       "      <td>Neither easy nor difficult</td>\n",
       "      <td>Appropriate in length</td>\n",
       "      <td>No</td>\n",
       "      <td>Computer science, computer engineering, or sof...</td>\n",
       "      <td>ASP.NET Core</td>\n",
       "      <td>ASP.NET;ASP.NET Core</td>\n",
       "      <td>Just as welcome now as I felt last year</td>\n",
       "      <td>50.0</td>\n",
       "      <td>36</td>\n",
       "      <td>27</td>\n",
       "    </tr>\n",
       "    <tr>\n",
       "      <th>1</th>\n",
       "      <td>2</td>\n",
       "      <td>I am a developer by profession</td>\n",
       "      <td>No</td>\n",
       "      <td>NaN</td>\n",
       "      <td>19</td>\n",
       "      <td>NaN</td>\n",
       "      <td>NaN</td>\n",
       "      <td>NaN</td>\n",
       "      <td>United Kingdom</td>\n",
       "      <td>Pound sterling</td>\n",
       "      <td>...</td>\n",
       "      <td>NaN</td>\n",
       "      <td>NaN</td>\n",
       "      <td>NaN</td>\n",
       "      <td>Computer science, computer engineering, or sof...</td>\n",
       "      <td>NaN</td>\n",
       "      <td>NaN</td>\n",
       "      <td>Somewhat more welcome now than last year</td>\n",
       "      <td>NaN</td>\n",
       "      <td>7</td>\n",
       "      <td>4</td>\n",
       "    </tr>\n",
       "    <tr>\n",
       "      <th>2</th>\n",
       "      <td>3</td>\n",
       "      <td>I code primarily as a hobby</td>\n",
       "      <td>Yes</td>\n",
       "      <td>NaN</td>\n",
       "      <td>15</td>\n",
       "      <td>NaN</td>\n",
       "      <td>NaN</td>\n",
       "      <td>NaN</td>\n",
       "      <td>Russian Federation</td>\n",
       "      <td>NaN</td>\n",
       "      <td>...</td>\n",
       "      <td>Neither easy nor difficult</td>\n",
       "      <td>Appropriate in length</td>\n",
       "      <td>NaN</td>\n",
       "      <td>NaN</td>\n",
       "      <td>NaN</td>\n",
       "      <td>NaN</td>\n",
       "      <td>Somewhat more welcome now than last year</td>\n",
       "      <td>NaN</td>\n",
       "      <td>4</td>\n",
       "      <td>NaN</td>\n",
       "    </tr>\n",
       "    <tr>\n",
       "      <th>3</th>\n",
       "      <td>4</td>\n",
       "      <td>I am a developer by profession</td>\n",
       "      <td>Yes</td>\n",
       "      <td>25.0</td>\n",
       "      <td>18</td>\n",
       "      <td>NaN</td>\n",
       "      <td>NaN</td>\n",
       "      <td>NaN</td>\n",
       "      <td>Albania</td>\n",
       "      <td>Albanian lek</td>\n",
       "      <td>...</td>\n",
       "      <td>NaN</td>\n",
       "      <td>NaN</td>\n",
       "      <td>No</td>\n",
       "      <td>Computer science, computer engineering, or sof...</td>\n",
       "      <td>NaN</td>\n",
       "      <td>NaN</td>\n",
       "      <td>Somewhat less welcome now than last year</td>\n",
       "      <td>40.0</td>\n",
       "      <td>7</td>\n",
       "      <td>4</td>\n",
       "    </tr>\n",
       "    <tr>\n",
       "      <th>4</th>\n",
       "      <td>5</td>\n",
       "      <td>I used to be a developer by profession, but no...</td>\n",
       "      <td>Yes</td>\n",
       "      <td>31.0</td>\n",
       "      <td>16</td>\n",
       "      <td>NaN</td>\n",
       "      <td>NaN</td>\n",
       "      <td>NaN</td>\n",
       "      <td>United States</td>\n",
       "      <td>NaN</td>\n",
       "      <td>...</td>\n",
       "      <td>Easy</td>\n",
       "      <td>Too short</td>\n",
       "      <td>No</td>\n",
       "      <td>Computer science, computer engineering, or sof...</td>\n",
       "      <td>Django;Ruby on Rails</td>\n",
       "      <td>Ruby on Rails</td>\n",
       "      <td>Just as welcome now as I felt last year</td>\n",
       "      <td>NaN</td>\n",
       "      <td>15</td>\n",
       "      <td>8</td>\n",
       "    </tr>\n",
       "  </tbody>\n",
       "</table>\n",
       "<p>5 rows × 61 columns</p>\n",
       "</div>"
      ],
      "text/plain": [
       "   Respondent                                         MainBranch Hobbyist  \\\n",
       "0           1                     I am a developer by profession      Yes   \n",
       "1           2                     I am a developer by profession       No   \n",
       "2           3                        I code primarily as a hobby      Yes   \n",
       "3           4                     I am a developer by profession      Yes   \n",
       "4           5  I used to be a developer by profession, but no...      Yes   \n",
       "\n",
       "    Age Age1stCode CompFreq  CompTotal  ConvertedComp             Country  \\\n",
       "0   NaN         13  Monthly        NaN            NaN             Germany   \n",
       "1   NaN         19      NaN        NaN            NaN      United Kingdom   \n",
       "2   NaN         15      NaN        NaN            NaN  Russian Federation   \n",
       "3  25.0         18      NaN        NaN            NaN             Albania   \n",
       "4  31.0         16      NaN        NaN            NaN       United States   \n",
       "\n",
       "     CurrencyDesc  ...                  SurveyEase           SurveyLength  \\\n",
       "0   European Euro  ...  Neither easy nor difficult  Appropriate in length   \n",
       "1  Pound sterling  ...                         NaN                    NaN   \n",
       "2             NaN  ...  Neither easy nor difficult  Appropriate in length   \n",
       "3    Albanian lek  ...                         NaN                    NaN   \n",
       "4             NaN  ...                        Easy              Too short   \n",
       "\n",
       "  Trans                                     UndergradMajor  \\\n",
       "0    No  Computer science, computer engineering, or sof...   \n",
       "1   NaN  Computer science, computer engineering, or sof...   \n",
       "2   NaN                                                NaN   \n",
       "3    No  Computer science, computer engineering, or sof...   \n",
       "4    No  Computer science, computer engineering, or sof...   \n",
       "\n",
       "  WebframeDesireNextYear    WebframeWorkedWith  \\\n",
       "0           ASP.NET Core  ASP.NET;ASP.NET Core   \n",
       "1                    NaN                   NaN   \n",
       "2                    NaN                   NaN   \n",
       "3                    NaN                   NaN   \n",
       "4   Django;Ruby on Rails         Ruby on Rails   \n",
       "\n",
       "                              WelcomeChange WorkWeekHrs YearsCode YearsCodePro  \n",
       "0   Just as welcome now as I felt last year        50.0        36           27  \n",
       "1  Somewhat more welcome now than last year         NaN         7            4  \n",
       "2  Somewhat more welcome now than last year         NaN         4          NaN  \n",
       "3  Somewhat less welcome now than last year        40.0         7            4  \n",
       "4   Just as welcome now as I felt last year         NaN        15            8  \n",
       "\n",
       "[5 rows x 61 columns]"
      ]
     },
     "execution_count": 3,
     "metadata": {},
     "output_type": "execute_result"
    }
   ],
   "source": [
    "survey.head()"
   ]
  },
  {
   "cell_type": "code",
   "execution_count": 4,
   "metadata": {
    "colab": {
     "base_uri": "https://localhost:8080/"
    },
    "id": "xhBaPAnIHiG8",
    "outputId": "5e699da3-ae75-46ca-9d5b-d5f0af8e6313"
   },
   "outputs": [
    {
     "name": "stdout",
     "output_type": "stream",
     "text": [
      "<class 'pandas.core.frame.DataFrame'>\n",
      "RangeIndex: 64461 entries, 0 to 64460\n",
      "Data columns (total 61 columns):\n",
      " #   Column                        Non-Null Count  Dtype  \n",
      "---  ------                        --------------  -----  \n",
      " 0   Respondent                    64461 non-null  int64  \n",
      " 1   MainBranch                    64162 non-null  object \n",
      " 2   Hobbyist                      64416 non-null  object \n",
      " 3   Age                           45446 non-null  float64\n",
      " 4   Age1stCode                    57900 non-null  object \n",
      " 5   CompFreq                      40069 non-null  object \n",
      " 6   CompTotal                     34826 non-null  float64\n",
      " 7   ConvertedComp                 34756 non-null  float64\n",
      " 8   Country                       64072 non-null  object \n",
      " 9   CurrencyDesc                  45472 non-null  object \n",
      " 10  CurrencySymbol                45472 non-null  object \n",
      " 11  DatabaseDesireNextYear        44070 non-null  object \n",
      " 12  DatabaseWorkedWith            49537 non-null  object \n",
      " 13  DevType                       49370 non-null  object \n",
      " 14  EdLevel                       57431 non-null  object \n",
      " 15  Employment                    63854 non-null  object \n",
      " 16  Ethnicity                     45948 non-null  object \n",
      " 17  Gender                        50557 non-null  object \n",
      " 18  JobFactors                    49349 non-null  object \n",
      " 19  JobSat                        45194 non-null  object \n",
      " 20  JobSeek                       51727 non-null  object \n",
      " 21  LanguageDesireNextYear        54113 non-null  object \n",
      " 22  LanguageWorkedWith            57378 non-null  object \n",
      " 23  MiscTechDesireNextYear        42379 non-null  object \n",
      " 24  MiscTechWorkedWith            40314 non-null  object \n",
      " 25  NEWCollabToolsDesireNextYear  47287 non-null  object \n",
      " 26  NEWCollabToolsWorkedWith      52883 non-null  object \n",
      " 27  NEWDevOps                     42686 non-null  object \n",
      " 28  NEWDevOpsImpt                 41732 non-null  object \n",
      " 29  NEWEdImpt                     48465 non-null  object \n",
      " 30  NEWJobHunt                    42286 non-null  object \n",
      " 31  NEWJobHuntResearch            41022 non-null  object \n",
      " 32  NEWLearn                      56156 non-null  object \n",
      " 33  NEWOffTopic                   50804 non-null  object \n",
      " 34  NEWOnboardGood                42623 non-null  object \n",
      " 35  NEWOtherComms                 57205 non-null  object \n",
      " 36  NEWOvertime                   43231 non-null  object \n",
      " 37  NEWPurchaseResearch           37321 non-null  object \n",
      " 38  NEWPurpleLink                 54803 non-null  object \n",
      " 39  NEWSOSites                    58275 non-null  object \n",
      " 40  NEWStuck                      54983 non-null  object \n",
      " 41  OpSys                         56228 non-null  object \n",
      " 42  OrgSize                       44334 non-null  object \n",
      " 43  PlatformDesireNextYear        50605 non-null  object \n",
      " 44  PlatformWorkedWith            53843 non-null  object \n",
      " 45  PurchaseWhat                  39364 non-null  object \n",
      " 46  Sexuality                     43992 non-null  object \n",
      " 47  SOAccount                     56805 non-null  object \n",
      " 48  SOComm                        56476 non-null  object \n",
      " 49  SOPartFreq                    46792 non-null  object \n",
      " 50  SOVisitFreq                   56970 non-null  object \n",
      " 51  SurveyEase                    51802 non-null  object \n",
      " 52  SurveyLength                  51701 non-null  object \n",
      " 53  Trans                         49345 non-null  object \n",
      " 54  UndergradMajor                50995 non-null  object \n",
      " 55  WebframeDesireNextYear        40024 non-null  object \n",
      " 56  WebframeWorkedWith            42279 non-null  object \n",
      " 57  WelcomeChange                 52683 non-null  object \n",
      " 58  WorkWeekHrs                   41151 non-null  float64\n",
      " 59  YearsCode                     57684 non-null  object \n",
      " 60  YearsCodePro                  46349 non-null  object \n",
      "dtypes: float64(4), int64(1), object(56)\n",
      "memory usage: 30.0+ MB\n"
     ]
    }
   ],
   "source": [
    "survey.info()"
   ]
  },
  {
   "cell_type": "code",
   "execution_count": 5,
   "metadata": {
    "colab": {
     "base_uri": "https://localhost:8080/",
     "height": 300
    },
    "id": "bIHtqRh1HmKU",
    "outputId": "e0edf044-e042-4645-85ab-233fe4b69b58"
   },
   "outputs": [
    {
     "data": {
      "text/html": [
       "<div>\n",
       "<style scoped>\n",
       "    .dataframe tbody tr th:only-of-type {\n",
       "        vertical-align: middle;\n",
       "    }\n",
       "\n",
       "    .dataframe tbody tr th {\n",
       "        vertical-align: top;\n",
       "    }\n",
       "\n",
       "    .dataframe thead th {\n",
       "        text-align: right;\n",
       "    }\n",
       "</style>\n",
       "<table border=\"1\" class=\"dataframe\">\n",
       "  <thead>\n",
       "    <tr style=\"text-align: right;\">\n",
       "      <th></th>\n",
       "      <th>Respondent</th>\n",
       "      <th>Age</th>\n",
       "      <th>CompTotal</th>\n",
       "      <th>ConvertedComp</th>\n",
       "      <th>WorkWeekHrs</th>\n",
       "    </tr>\n",
       "  </thead>\n",
       "  <tbody>\n",
       "    <tr>\n",
       "      <th>count</th>\n",
       "      <td>64461.000000</td>\n",
       "      <td>45446.000000</td>\n",
       "      <td>3.482600e+04</td>\n",
       "      <td>3.475600e+04</td>\n",
       "      <td>41151.000000</td>\n",
       "    </tr>\n",
       "    <tr>\n",
       "      <th>mean</th>\n",
       "      <td>32554.079738</td>\n",
       "      <td>30.834111</td>\n",
       "      <td>3.190464e+242</td>\n",
       "      <td>1.037561e+05</td>\n",
       "      <td>40.782174</td>\n",
       "    </tr>\n",
       "    <tr>\n",
       "      <th>std</th>\n",
       "      <td>18967.442360</td>\n",
       "      <td>9.585392</td>\n",
       "      <td>inf</td>\n",
       "      <td>2.268853e+05</td>\n",
       "      <td>17.816383</td>\n",
       "    </tr>\n",
       "    <tr>\n",
       "      <th>min</th>\n",
       "      <td>1.000000</td>\n",
       "      <td>1.000000</td>\n",
       "      <td>0.000000e+00</td>\n",
       "      <td>0.000000e+00</td>\n",
       "      <td>1.000000</td>\n",
       "    </tr>\n",
       "    <tr>\n",
       "      <th>25%</th>\n",
       "      <td>16116.000000</td>\n",
       "      <td>24.000000</td>\n",
       "      <td>2.000000e+04</td>\n",
       "      <td>2.464800e+04</td>\n",
       "      <td>40.000000</td>\n",
       "    </tr>\n",
       "    <tr>\n",
       "      <th>50%</th>\n",
       "      <td>32231.000000</td>\n",
       "      <td>29.000000</td>\n",
       "      <td>6.300000e+04</td>\n",
       "      <td>5.404900e+04</td>\n",
       "      <td>40.000000</td>\n",
       "    </tr>\n",
       "    <tr>\n",
       "      <th>75%</th>\n",
       "      <td>49142.000000</td>\n",
       "      <td>35.000000</td>\n",
       "      <td>1.250000e+05</td>\n",
       "      <td>9.500000e+04</td>\n",
       "      <td>44.000000</td>\n",
       "    </tr>\n",
       "    <tr>\n",
       "      <th>max</th>\n",
       "      <td>65639.000000</td>\n",
       "      <td>279.000000</td>\n",
       "      <td>1.111111e+247</td>\n",
       "      <td>2.000000e+06</td>\n",
       "      <td>475.000000</td>\n",
       "    </tr>\n",
       "  </tbody>\n",
       "</table>\n",
       "</div>"
      ],
      "text/plain": [
       "         Respondent           Age      CompTotal  ConvertedComp   WorkWeekHrs\n",
       "count  64461.000000  45446.000000   3.482600e+04   3.475600e+04  41151.000000\n",
       "mean   32554.079738     30.834111  3.190464e+242   1.037561e+05     40.782174\n",
       "std    18967.442360      9.585392            inf   2.268853e+05     17.816383\n",
       "min        1.000000      1.000000   0.000000e+00   0.000000e+00      1.000000\n",
       "25%    16116.000000     24.000000   2.000000e+04   2.464800e+04     40.000000\n",
       "50%    32231.000000     29.000000   6.300000e+04   5.404900e+04     40.000000\n",
       "75%    49142.000000     35.000000   1.250000e+05   9.500000e+04     44.000000\n",
       "max    65639.000000    279.000000  1.111111e+247   2.000000e+06    475.000000"
      ]
     },
     "execution_count": 5,
     "metadata": {},
     "output_type": "execute_result"
    }
   ],
   "source": [
    "# generate descriptive stats \n",
    "survey.describe()"
   ]
  },
  {
   "cell_type": "code",
   "execution_count": 6,
   "metadata": {
    "id": "cCWiMP5GrVdU"
   },
   "outputs": [],
   "source": [
    "preprocess = survey.copy()"
   ]
  },
  {
   "cell_type": "markdown",
   "metadata": {
    "id": "czxSHiE_H3Qa"
   },
   "source": [
    "### Missing values"
   ]
  },
  {
   "cell_type": "code",
   "execution_count": 7,
   "metadata": {
    "colab": {
     "base_uri": "https://localhost:8080/",
     "height": 1000
    },
    "id": "cTIz1wmqIrxk",
    "outputId": "b9bab5cd-80b0-440b-d45b-b80cd1b85a61"
   },
   "outputs": [
    {
     "data": {
      "text/plain": [
       "Respondent                          0\n",
       "MainBranch                        299\n",
       "Hobbyist                           45\n",
       "Age                             19015\n",
       "Age1stCode                       6561\n",
       "CompFreq                        24392\n",
       "CompTotal                       29635\n",
       "ConvertedComp                   29705\n",
       "Country                           389\n",
       "CurrencyDesc                    18989\n",
       "CurrencySymbol                  18989\n",
       "DatabaseDesireNextYear          20391\n",
       "DatabaseWorkedWith              14924\n",
       "DevType                         15091\n",
       "EdLevel                          7030\n",
       "Employment                        607\n",
       "Ethnicity                       18513\n",
       "Gender                          13904\n",
       "JobFactors                      15112\n",
       "JobSat                          19267\n",
       "JobSeek                         12734\n",
       "LanguageDesireNextYear          10348\n",
       "LanguageWorkedWith               7083\n",
       "MiscTechDesireNextYear          22082\n",
       "MiscTechWorkedWith              24147\n",
       "NEWCollabToolsDesireNextYear    17174\n",
       "NEWCollabToolsWorkedWith        11578\n",
       "NEWDevOps                       21775\n",
       "NEWDevOpsImpt                   22729\n",
       "NEWEdImpt                       15996\n",
       "NEWJobHunt                      22175\n",
       "NEWJobHuntResearch              23439\n",
       "NEWLearn                         8305\n",
       "NEWOffTopic                     13657\n",
       "NEWOnboardGood                  21838\n",
       "NEWOtherComms                    7256\n",
       "NEWOvertime                     21230\n",
       "NEWPurchaseResearch             27140\n",
       "NEWPurpleLink                    9658\n",
       "NEWSOSites                       6186\n",
       "NEWStuck                         9478\n",
       "OpSys                            8233\n",
       "OrgSize                         20127\n",
       "PlatformDesireNextYear          13856\n",
       "PlatformWorkedWith              10618\n",
       "PurchaseWhat                    25097\n",
       "Sexuality                       20469\n",
       "SOAccount                        7656\n",
       "SOComm                           7985\n",
       "SOPartFreq                      17669\n",
       "SOVisitFreq                      7491\n",
       "SurveyEase                      12659\n",
       "SurveyLength                    12760\n",
       "Trans                           15116\n",
       "UndergradMajor                  13466\n",
       "WebframeDesireNextYear          24437\n",
       "WebframeWorkedWith              22182\n",
       "WelcomeChange                   11778\n",
       "WorkWeekHrs                     23310\n",
       "YearsCode                        6777\n",
       "YearsCodePro                    18112\n",
       "dtype: int64"
      ]
     },
     "metadata": {},
     "output_type": "display_data"
    }
   ],
   "source": [
    "with pd.option_context('display.max_rows', None):\n",
    "  display(preprocess.isnull().sum())"
   ]
  },
  {
   "cell_type": "markdown",
   "metadata": {
    "id": "gNT5L7h-rg4W"
   },
   "source": [
    "**Mandatory columns** \n",
    "\n",
    "- There are a lot of missing values in columns that correspond to mandatory questions. Since no significant differences can be observed between respondents with and without missing data, it is likely that the data are **missing completely at random**. \n",
    "- As such, it is difficult to infer what the answers might be, hence we will drop the missing data on these columns "
   ]
  },
  {
   "cell_type": "code",
   "execution_count": 8,
   "metadata": {
    "colab": {
     "base_uri": "https://localhost:8080/"
    },
    "id": "k5s2lj4NrfYo",
    "outputId": "b51ae6e6-39a1-4a96-de64-da251cf74e14"
   },
   "outputs": [
    {
     "data": {
      "text/plain": [
       "MainBranch        0\n",
       "Hobbyist          0\n",
       "Country           0\n",
       "CurrencyDesc      0\n",
       "CurrencySymbol    0\n",
       "JobSeek           0\n",
       "dtype: int64"
      ]
     },
     "execution_count": 8,
     "metadata": {},
     "output_type": "execute_result"
    }
   ],
   "source": [
    "# List of mandatory columns. \n",
    "# Respodent ID is assigned automatically, hence not included in this list \n",
    "mandatory_cols = ['MainBranch', 'Hobbyist', 'Country', 'CurrencyDesc', 'CurrencySymbol', 'JobSeek']\n",
    "preprocess.dropna(subset=mandatory_cols, inplace=True)\n",
    "\n",
    "# verify the change\n",
    "preprocess.loc[:, mandatory_cols].isnull().sum()"
   ]
  },
  {
   "cell_type": "markdown",
   "metadata": {
    "id": "2AjcZQabrpm4"
   },
   "source": [
    "**Optional columns**\n",
    "\n",
    "*Compensation*: `CompFreq`, `CompTotal`, `ConvertedComp`\n",
    "- On one hand, compensation frequency must be specified in order to calculate the total compensation amount. On the other hand, it isn't very useful to know the frequency but not the amount of compensation. \n",
    "- Therefore, we will drop any entries that contain missing values on `CompFreq`, then `CompTotal`\n"
   ]
  },
  {
   "cell_type": "code",
   "execution_count": 9,
   "metadata": {
    "colab": {
     "base_uri": "https://localhost:8080/"
    },
    "id": "jAqiS2Uwrouc",
    "outputId": "556445bb-c384-42ff-e460-6e25d3acc0ee"
   },
   "outputs": [
    {
     "data": {
      "text/plain": [
       "CompTotal        False\n",
       "CompFreq         False\n",
       "ConvertedComp     True\n",
       "dtype: bool"
      ]
     },
     "execution_count": 9,
     "metadata": {},
     "output_type": "execute_result"
    }
   ],
   "source": [
    "compensation_cols = ['CompTotal', 'CompFreq', 'ConvertedComp']\n",
    "# drop missing values for CompFreq\n",
    "preprocess.dropna(subset=['CompFreq', 'CompTotal'], axis=0, inplace=True)\n",
    "\n",
    "# verify the change\n",
    "preprocess.loc[:, compensation_cols].isnull().any()"
   ]
  },
  {
   "cell_type": "code",
   "execution_count": 10,
   "metadata": {
    "colab": {
     "base_uri": "https://localhost:8080/",
     "height": 534
    },
    "id": "n6ERHNnyrvLS",
    "outputId": "0f8cdbb6-6673-42da-9af9-78c7e4ad1770"
   },
   "outputs": [
    {
     "data": {
      "text/html": [
       "<div>\n",
       "<style scoped>\n",
       "    .dataframe tbody tr th:only-of-type {\n",
       "        vertical-align: middle;\n",
       "    }\n",
       "\n",
       "    .dataframe tbody tr th {\n",
       "        vertical-align: top;\n",
       "    }\n",
       "\n",
       "    .dataframe thead th {\n",
       "        text-align: right;\n",
       "    }\n",
       "</style>\n",
       "<table border=\"1\" class=\"dataframe\">\n",
       "  <thead>\n",
       "    <tr style=\"text-align: right;\">\n",
       "      <th></th>\n",
       "      <th>Respondent</th>\n",
       "      <th>MainBranch</th>\n",
       "      <th>Hobbyist</th>\n",
       "      <th>Age</th>\n",
       "      <th>Age1stCode</th>\n",
       "      <th>CompFreq</th>\n",
       "      <th>CompTotal</th>\n",
       "      <th>ConvertedComp</th>\n",
       "      <th>Country</th>\n",
       "      <th>CurrencyDesc</th>\n",
       "      <th>...</th>\n",
       "      <th>SurveyEase</th>\n",
       "      <th>SurveyLength</th>\n",
       "      <th>Trans</th>\n",
       "      <th>UndergradMajor</th>\n",
       "      <th>WebframeDesireNextYear</th>\n",
       "      <th>WebframeWorkedWith</th>\n",
       "      <th>WelcomeChange</th>\n",
       "      <th>WorkWeekHrs</th>\n",
       "      <th>YearsCode</th>\n",
       "      <th>YearsCodePro</th>\n",
       "    </tr>\n",
       "  </thead>\n",
       "  <tbody>\n",
       "    <tr>\n",
       "      <th>7370</th>\n",
       "      <td>7400</td>\n",
       "      <td>I am not primarily a developer, but I write co...</td>\n",
       "      <td>Yes</td>\n",
       "      <td>69.0</td>\n",
       "      <td>Younger than 5 years</td>\n",
       "      <td>Yearly</td>\n",
       "      <td>1000.0</td>\n",
       "      <td>NaN</td>\n",
       "      <td>Angola</td>\n",
       "      <td>e\\tCook Islands dollar</td>\n",
       "      <td>...</td>\n",
       "      <td>Easy</td>\n",
       "      <td>Too long</td>\n",
       "      <td>NaN</td>\n",
       "      <td>NaN</td>\n",
       "      <td>NaN</td>\n",
       "      <td>NaN</td>\n",
       "      <td>NaN</td>\n",
       "      <td>168.0</td>\n",
       "      <td>Less than 1 year</td>\n",
       "      <td>Less than 1 year</td>\n",
       "    </tr>\n",
       "    <tr>\n",
       "      <th>23788</th>\n",
       "      <td>23878</td>\n",
       "      <td>I am a developer by profession</td>\n",
       "      <td>Yes</td>\n",
       "      <td>36.0</td>\n",
       "      <td>11</td>\n",
       "      <td>Yearly</td>\n",
       "      <td>979000.0</td>\n",
       "      <td>NaN</td>\n",
       "      <td>Norway</td>\n",
       "      <td>e\\tCook Islands dollar</td>\n",
       "      <td>...</td>\n",
       "      <td>Easy</td>\n",
       "      <td>Appropriate in length</td>\n",
       "      <td>No</td>\n",
       "      <td>Computer science, computer engineering, or sof...</td>\n",
       "      <td>React.js</td>\n",
       "      <td>Angular;jQuery;React.js;Spring</td>\n",
       "      <td>Just as welcome now as I felt last year</td>\n",
       "      <td>40.0</td>\n",
       "      <td>13</td>\n",
       "      <td>25</td>\n",
       "    </tr>\n",
       "    <tr>\n",
       "      <th>47224</th>\n",
       "      <td>48212</td>\n",
       "      <td>I am not primarily a developer, but I write co...</td>\n",
       "      <td>Yes</td>\n",
       "      <td>33.0</td>\n",
       "      <td>12</td>\n",
       "      <td>Monthly</td>\n",
       "      <td>10000.0</td>\n",
       "      <td>NaN</td>\n",
       "      <td>Denmark</td>\n",
       "      <td>e\\tFaroese krona</td>\n",
       "      <td>...</td>\n",
       "      <td>Neither easy nor difficult</td>\n",
       "      <td>Appropriate in length</td>\n",
       "      <td>No</td>\n",
       "      <td>A humanities discipline (such as literature, h...</td>\n",
       "      <td>Gatsby;React.js;Vue.js</td>\n",
       "      <td>ASP.NET;Drupal;Gatsby;jQuery;React.js</td>\n",
       "      <td>Somewhat less welcome now than last year</td>\n",
       "      <td>27.0</td>\n",
       "      <td>5</td>\n",
       "      <td>3</td>\n",
       "    </tr>\n",
       "    <tr>\n",
       "      <th>55973</th>\n",
       "      <td>57095</td>\n",
       "      <td>I am a developer by profession</td>\n",
       "      <td>Yes</td>\n",
       "      <td>NaN</td>\n",
       "      <td>18</td>\n",
       "      <td>Monthly</td>\n",
       "      <td>5000.0</td>\n",
       "      <td>NaN</td>\n",
       "      <td>India</td>\n",
       "      <td>e\\tCook Islands dollar</td>\n",
       "      <td>...</td>\n",
       "      <td>Easy</td>\n",
       "      <td>Too short</td>\n",
       "      <td>No</td>\n",
       "      <td>Mathematics or statistics</td>\n",
       "      <td>Angular;Express;React.js</td>\n",
       "      <td>Angular;Express;React.js</td>\n",
       "      <td>A lot less welcome now than last year</td>\n",
       "      <td>10.0</td>\n",
       "      <td>7</td>\n",
       "      <td>2</td>\n",
       "    </tr>\n",
       "  </tbody>\n",
       "</table>\n",
       "<p>4 rows × 61 columns</p>\n",
       "</div>"
      ],
      "text/plain": [
       "       Respondent                                         MainBranch Hobbyist  \\\n",
       "7370         7400  I am not primarily a developer, but I write co...      Yes   \n",
       "23788       23878                     I am a developer by profession      Yes   \n",
       "47224       48212  I am not primarily a developer, but I write co...      Yes   \n",
       "55973       57095                     I am a developer by profession      Yes   \n",
       "\n",
       "        Age            Age1stCode CompFreq  CompTotal  ConvertedComp  Country  \\\n",
       "7370   69.0  Younger than 5 years   Yearly     1000.0            NaN   Angola   \n",
       "23788  36.0                    11   Yearly   979000.0            NaN   Norway   \n",
       "47224  33.0                    12  Monthly    10000.0            NaN  Denmark   \n",
       "55973   NaN                    18  Monthly     5000.0            NaN    India   \n",
       "\n",
       "                 CurrencyDesc  ...                  SurveyEase  \\\n",
       "7370   e\\tCook Islands dollar  ...                        Easy   \n",
       "23788  e\\tCook Islands dollar  ...                        Easy   \n",
       "47224        e\\tFaroese krona  ...  Neither easy nor difficult   \n",
       "55973  e\\tCook Islands dollar  ...                        Easy   \n",
       "\n",
       "                SurveyLength Trans  \\\n",
       "7370                Too long   NaN   \n",
       "23788  Appropriate in length    No   \n",
       "47224  Appropriate in length    No   \n",
       "55973              Too short    No   \n",
       "\n",
       "                                          UndergradMajor  \\\n",
       "7370                                                 NaN   \n",
       "23788  Computer science, computer engineering, or sof...   \n",
       "47224  A humanities discipline (such as literature, h...   \n",
       "55973                          Mathematics or statistics   \n",
       "\n",
       "         WebframeDesireNextYear                     WebframeWorkedWith  \\\n",
       "7370                        NaN                                    NaN   \n",
       "23788                  React.js         Angular;jQuery;React.js;Spring   \n",
       "47224    Gatsby;React.js;Vue.js  ASP.NET;Drupal;Gatsby;jQuery;React.js   \n",
       "55973  Angular;Express;React.js               Angular;Express;React.js   \n",
       "\n",
       "                                  WelcomeChange WorkWeekHrs         YearsCode  \\\n",
       "7370                                        NaN       168.0  Less than 1 year   \n",
       "23788   Just as welcome now as I felt last year        40.0                13   \n",
       "47224  Somewhat less welcome now than last year        27.0                 5   \n",
       "55973     A lot less welcome now than last year        10.0                 7   \n",
       "\n",
       "           YearsCodePro  \n",
       "7370   Less than 1 year  \n",
       "23788                25  \n",
       "47224                 3  \n",
       "55973                 2  \n",
       "\n",
       "[4 rows x 61 columns]"
      ]
     },
     "execution_count": 10,
     "metadata": {},
     "output_type": "execute_result"
    }
   ],
   "source": [
    "# check for remaining missing values \n",
    "preprocess[preprocess.loc[:, 'ConvertedComp'].isnull() == True]"
   ]
  },
  {
   "cell_type": "markdown",
   "metadata": {
    "id": "Tg1DeEB7rwg0"
   },
   "source": [
    "It seems that the compensation are paid in more rare types of currency, hence the missing values on `ConvertedComp`. \n",
    "- After some research, we found that Faroese krona has the same fixed exchange rate as Danish Krone (1 to 1) and so we will fill the converted compensation based on that exchange rate. \n",
    "- For Cook Island dollar, we weren't able to find or infer the exchange rate, so the best guess is to drop them. "
   ]
  },
  {
   "cell_type": "code",
   "execution_count": 11,
   "metadata": {
    "colab": {
     "base_uri": "https://localhost:8080/",
     "height": 231
    },
    "id": "qxRgJ5wRryyS",
    "outputId": "2cdb5958-94df-494a-ed7d-c9bb13fde4cd"
   },
   "outputs": [
    {
     "data": {
      "text/html": [
       "<div>\n",
       "<style scoped>\n",
       "    .dataframe tbody tr th:only-of-type {\n",
       "        vertical-align: middle;\n",
       "    }\n",
       "\n",
       "    .dataframe tbody tr th {\n",
       "        vertical-align: top;\n",
       "    }\n",
       "\n",
       "    .dataframe thead th {\n",
       "        text-align: right;\n",
       "    }\n",
       "</style>\n",
       "<table border=\"1\" class=\"dataframe\">\n",
       "  <thead>\n",
       "    <tr style=\"text-align: right;\">\n",
       "      <th></th>\n",
       "      <th>Respondent</th>\n",
       "      <th>MainBranch</th>\n",
       "      <th>Hobbyist</th>\n",
       "      <th>Age</th>\n",
       "      <th>Age1stCode</th>\n",
       "      <th>CompFreq</th>\n",
       "      <th>CompTotal</th>\n",
       "      <th>ConvertedComp</th>\n",
       "      <th>Country</th>\n",
       "      <th>CurrencyDesc</th>\n",
       "      <th>...</th>\n",
       "      <th>SurveyEase</th>\n",
       "      <th>SurveyLength</th>\n",
       "      <th>Trans</th>\n",
       "      <th>UndergradMajor</th>\n",
       "      <th>WebframeDesireNextYear</th>\n",
       "      <th>WebframeWorkedWith</th>\n",
       "      <th>WelcomeChange</th>\n",
       "      <th>WorkWeekHrs</th>\n",
       "      <th>YearsCode</th>\n",
       "      <th>YearsCodePro</th>\n",
       "    </tr>\n",
       "  </thead>\n",
       "  <tbody>\n",
       "    <tr>\n",
       "      <th>755</th>\n",
       "      <td>757</td>\n",
       "      <td>I am a developer by profession</td>\n",
       "      <td>Yes</td>\n",
       "      <td>55.0</td>\n",
       "      <td>23</td>\n",
       "      <td>Monthly</td>\n",
       "      <td>80000.0</td>\n",
       "      <td>138936.0</td>\n",
       "      <td>Denmark</td>\n",
       "      <td>Danish krone</td>\n",
       "      <td>...</td>\n",
       "      <td>Easy</td>\n",
       "      <td>Appropriate in length</td>\n",
       "      <td>No</td>\n",
       "      <td>A natural science (such as biology, chemistry,...</td>\n",
       "      <td>Angular</td>\n",
       "      <td>ASP.NET;jQuery</td>\n",
       "      <td>Just as welcome now as I felt last year</td>\n",
       "      <td>37.0</td>\n",
       "      <td>35</td>\n",
       "      <td>28</td>\n",
       "    </tr>\n",
       "  </tbody>\n",
       "</table>\n",
       "<p>1 rows × 61 columns</p>\n",
       "</div>"
      ],
      "text/plain": [
       "     Respondent                      MainBranch Hobbyist   Age Age1stCode  \\\n",
       "755         757  I am a developer by profession      Yes  55.0         23   \n",
       "\n",
       "    CompFreq  CompTotal  ConvertedComp  Country  CurrencyDesc  ... SurveyEase  \\\n",
       "755  Monthly    80000.0       138936.0  Denmark  Danish krone  ...       Easy   \n",
       "\n",
       "              SurveyLength Trans  \\\n",
       "755  Appropriate in length    No   \n",
       "\n",
       "                                        UndergradMajor WebframeDesireNextYear  \\\n",
       "755  A natural science (such as biology, chemistry,...                Angular   \n",
       "\n",
       "    WebframeWorkedWith                            WelcomeChange WorkWeekHrs  \\\n",
       "755     ASP.NET;jQuery  Just as welcome now as I felt last year        37.0   \n",
       "\n",
       "    YearsCode YearsCodePro  \n",
       "755        35           28  \n",
       "\n",
       "[1 rows x 61 columns]"
      ]
     },
     "execution_count": 11,
     "metadata": {},
     "output_type": "execute_result"
    }
   ],
   "source": [
    "# find the exchange rate for Danish krone \n",
    "preprocess[preprocess.loc[:, 'CurrencySymbol'] == 'DKK'].head(1)"
   ]
  },
  {
   "cell_type": "code",
   "execution_count": 12,
   "metadata": {
    "id": "RlX4_skMr15e"
   },
   "outputs": [],
   "source": [
    "dkk_to_usd = 138936.0/80000.0\n",
    "converted_comp = preprocess.loc[preprocess.index.isin([47224]), 'CompTotal']*dkk_to_usd\n",
    "\n",
    "# fill the missing converted compensation  \n",
    "preprocess.loc[preprocess.index.isin([47224]), 'ConvertedComp'] = converted_comp\n",
    "\n",
    "# while we're at it, let's fix the currency symbol too \n",
    "preprocess.loc[preprocess.index.isin([47224]), 'CurrencyDesc'] = 'Faroese krona'\n",
    "preprocess.loc[preprocess.index.isin([47224]), 'CurrencySymbol'] = 'KR'"
   ]
  },
  {
   "cell_type": "code",
   "execution_count": 13,
   "metadata": {
    "id": "IOuNJCjrr5DV"
   },
   "outputs": [],
   "source": [
    "# drop missing values for Cook Island dollar\n",
    "cols_to_drop = preprocess[preprocess.loc[:, 'ConvertedComp'].isnull() == True].index.tolist()\n",
    "preprocess.drop(index=cols_to_drop, inplace=True)"
   ]
  },
  {
   "cell_type": "markdown",
   "metadata": {
    "id": "abp-1yfMr710"
   },
   "source": [
    "*Age & working hours*\n",
    "- `Age` & `WorkWeekHrs`: these 2 columns are of numerical type, we will impute the missing values with median. "
   ]
  },
  {
   "cell_type": "code",
   "execution_count": 14,
   "metadata": {
    "id": "gKJJ0jZzr7dW"
   },
   "outputs": [],
   "source": [
    "# fill missing age and working hours with median \n",
    "med_age = preprocess['Age'].median()\n",
    "med_hour = preprocess['WorkWeekHrs'].median()\n",
    "preprocess.fillna({'Age':med_age, 'WorkWeekHrs':med_hour}, inplace=True)"
   ]
  },
  {
   "cell_type": "markdown",
   "metadata": {
    "id": "xgnYefTMr_En"
   },
   "source": [
    "*Remaining columns* \n",
    "\n",
    "- For the remaining columns, we will fill missing values with the value 'NotMentioned'. This is because these columns are of categorical type and survey respondents have the option to leave these questions blank if they wish to not answer."
   ]
  },
  {
   "cell_type": "code",
   "execution_count": 15,
   "metadata": {
    "id": "nMMIiIZ1sEbc"
   },
   "outputs": [],
   "source": [
    "cat_cols = preprocess.select_dtypes(include=[object]).columns.tolist()\n",
    "preprocess[cat_cols] = preprocess[cat_cols].fillna(value='NotMentioned')"
   ]
  },
  {
   "cell_type": "code",
   "execution_count": 16,
   "metadata": {
    "colab": {
     "base_uri": "https://localhost:8080/",
     "height": 1000
    },
    "id": "NXNo4GGesE8-",
    "outputId": "34bb0242-5386-4d05-acda-566ec5855d3f"
   },
   "outputs": [
    {
     "data": {
      "text/plain": [
       "Respondent                      0\n",
       "MainBranch                      0\n",
       "Hobbyist                        0\n",
       "Age                             0\n",
       "Age1stCode                      0\n",
       "CompFreq                        0\n",
       "CompTotal                       0\n",
       "ConvertedComp                   0\n",
       "Country                         0\n",
       "CurrencyDesc                    0\n",
       "CurrencySymbol                  0\n",
       "DatabaseDesireNextYear          0\n",
       "DatabaseWorkedWith              0\n",
       "DevType                         0\n",
       "EdLevel                         0\n",
       "Employment                      0\n",
       "Ethnicity                       0\n",
       "Gender                          0\n",
       "JobFactors                      0\n",
       "JobSat                          0\n",
       "JobSeek                         0\n",
       "LanguageDesireNextYear          0\n",
       "LanguageWorkedWith              0\n",
       "MiscTechDesireNextYear          0\n",
       "MiscTechWorkedWith              0\n",
       "NEWCollabToolsDesireNextYear    0\n",
       "NEWCollabToolsWorkedWith        0\n",
       "NEWDevOps                       0\n",
       "NEWDevOpsImpt                   0\n",
       "NEWEdImpt                       0\n",
       "NEWJobHunt                      0\n",
       "NEWJobHuntResearch              0\n",
       "NEWLearn                        0\n",
       "NEWOffTopic                     0\n",
       "NEWOnboardGood                  0\n",
       "NEWOtherComms                   0\n",
       "NEWOvertime                     0\n",
       "NEWPurchaseResearch             0\n",
       "NEWPurpleLink                   0\n",
       "NEWSOSites                      0\n",
       "NEWStuck                        0\n",
       "OpSys                           0\n",
       "OrgSize                         0\n",
       "PlatformDesireNextYear          0\n",
       "PlatformWorkedWith              0\n",
       "PurchaseWhat                    0\n",
       "Sexuality                       0\n",
       "SOAccount                       0\n",
       "SOComm                          0\n",
       "SOPartFreq                      0\n",
       "SOVisitFreq                     0\n",
       "SurveyEase                      0\n",
       "SurveyLength                    0\n",
       "Trans                           0\n",
       "UndergradMajor                  0\n",
       "WebframeDesireNextYear          0\n",
       "WebframeWorkedWith              0\n",
       "WelcomeChange                   0\n",
       "WorkWeekHrs                     0\n",
       "YearsCode                       0\n",
       "YearsCodePro                    0\n",
       "dtype: int64"
      ]
     },
     "metadata": {},
     "output_type": "display_data"
    }
   ],
   "source": [
    "# verify the change\n",
    "with pd.option_context('display.max_rows', None):\n",
    "  display(preprocess.isnull().sum())"
   ]
  },
  {
   "cell_type": "markdown",
   "metadata": {
    "id": "Sw15_cFOH3gW"
   },
   "source": [
    "### Whitespaces/string manipulation\n"
   ]
  },
  {
   "cell_type": "code",
   "execution_count": 17,
   "metadata": {
    "id": "gBhvBOgPQvlk"
   },
   "outputs": [],
   "source": [
    "# remove whitespace\n",
    "preprocess = preprocess.apply(lambda x: x.str.strip() if x.dtype == \"object\" else x)   \n",
    "# transform letter to lowercase \n",
    "preprocess = preprocess.apply(lambda x: x.str.lower() if x.dtype == \"object\" else x)"
   ]
  },
  {
   "cell_type": "markdown",
   "metadata": {
    "id": "eCfJwAQAIHDu"
   },
   "source": [
    "### Extreme values "
   ]
  },
  {
   "cell_type": "code",
   "execution_count": 18,
   "metadata": {
    "colab": {
     "base_uri": "https://localhost:8080/",
     "height": 300
    },
    "id": "f1KMQgNlQyun",
    "outputId": "e54f0664-a0f6-460a-d07b-23e919d185dd"
   },
   "outputs": [
    {
     "data": {
      "text/html": [
       "<div>\n",
       "<style scoped>\n",
       "    .dataframe tbody tr th:only-of-type {\n",
       "        vertical-align: middle;\n",
       "    }\n",
       "\n",
       "    .dataframe tbody tr th {\n",
       "        vertical-align: top;\n",
       "    }\n",
       "\n",
       "    .dataframe thead th {\n",
       "        text-align: right;\n",
       "    }\n",
       "</style>\n",
       "<table border=\"1\" class=\"dataframe\">\n",
       "  <thead>\n",
       "    <tr style=\"text-align: right;\">\n",
       "      <th></th>\n",
       "      <th>Respondent</th>\n",
       "      <th>Age</th>\n",
       "      <th>CompTotal</th>\n",
       "      <th>ConvertedComp</th>\n",
       "      <th>WorkWeekHrs</th>\n",
       "    </tr>\n",
       "  </thead>\n",
       "  <tbody>\n",
       "    <tr>\n",
       "      <th>count</th>\n",
       "      <td>33779.000000</td>\n",
       "      <td>33779.000000</td>\n",
       "      <td>3.377900e+04</td>\n",
       "      <td>3.377900e+04</td>\n",
       "      <td>33779.000000</td>\n",
       "    </tr>\n",
       "    <tr>\n",
       "      <th>mean</th>\n",
       "      <td>29069.657479</td>\n",
       "      <td>31.960526</td>\n",
       "      <td>3.289355e+242</td>\n",
       "      <td>1.037774e+05</td>\n",
       "      <td>40.733636</td>\n",
       "    </tr>\n",
       "    <tr>\n",
       "      <th>std</th>\n",
       "      <td>18621.806400</td>\n",
       "      <td>8.225053</td>\n",
       "      <td>inf</td>\n",
       "      <td>2.261110e+05</td>\n",
       "      <td>17.554454</td>\n",
       "    </tr>\n",
       "    <tr>\n",
       "      <th>min</th>\n",
       "      <td>8.000000</td>\n",
       "      <td>1.000000</td>\n",
       "      <td>0.000000e+00</td>\n",
       "      <td>0.000000e+00</td>\n",
       "      <td>1.000000</td>\n",
       "    </tr>\n",
       "    <tr>\n",
       "      <th>25%</th>\n",
       "      <td>13280.000000</td>\n",
       "      <td>26.000000</td>\n",
       "      <td>2.000000e+04</td>\n",
       "      <td>2.515150e+04</td>\n",
       "      <td>40.000000</td>\n",
       "    </tr>\n",
       "    <tr>\n",
       "      <th>50%</th>\n",
       "      <td>26463.000000</td>\n",
       "      <td>30.000000</td>\n",
       "      <td>6.300000e+04</td>\n",
       "      <td>5.404900e+04</td>\n",
       "      <td>40.000000</td>\n",
       "    </tr>\n",
       "    <tr>\n",
       "      <th>75%</th>\n",
       "      <td>47221.500000</td>\n",
       "      <td>35.000000</td>\n",
       "      <td>1.250000e+05</td>\n",
       "      <td>9.500000e+04</td>\n",
       "      <td>42.000000</td>\n",
       "    </tr>\n",
       "    <tr>\n",
       "      <th>max</th>\n",
       "      <td>65630.000000</td>\n",
       "      <td>279.000000</td>\n",
       "      <td>1.111111e+247</td>\n",
       "      <td>2.000000e+06</td>\n",
       "      <td>475.000000</td>\n",
       "    </tr>\n",
       "  </tbody>\n",
       "</table>\n",
       "</div>"
      ],
      "text/plain": [
       "         Respondent           Age      CompTotal  ConvertedComp   WorkWeekHrs\n",
       "count  33779.000000  33779.000000   3.377900e+04   3.377900e+04  33779.000000\n",
       "mean   29069.657479     31.960526  3.289355e+242   1.037774e+05     40.733636\n",
       "std    18621.806400      8.225053            inf   2.261110e+05     17.554454\n",
       "min        8.000000      1.000000   0.000000e+00   0.000000e+00      1.000000\n",
       "25%    13280.000000     26.000000   2.000000e+04   2.515150e+04     40.000000\n",
       "50%    26463.000000     30.000000   6.300000e+04   5.404900e+04     40.000000\n",
       "75%    47221.500000     35.000000   1.250000e+05   9.500000e+04     42.000000\n",
       "max    65630.000000    279.000000  1.111111e+247   2.000000e+06    475.000000"
      ]
     },
     "execution_count": 18,
     "metadata": {},
     "output_type": "execute_result"
    }
   ],
   "source": [
    "# check for distribution \n",
    "num_cols = preprocess.select_dtypes(exclude=['object', 'bool'])\n",
    "num_cols.describe()"
   ]
  },
  {
   "cell_type": "markdown",
   "metadata": {
    "id": "MSwu_scmQ0XP"
   },
   "source": [
    "- `Respondent` & `CompTotal`: These two columns are of little importance for our final analysis, so we will leave them as it. Specifically, `Respondent` is just the ID of survey participants, while `CompTotal` includes compensation of varied currency.\n",
    "- `Age` & `WorkWeekHrs`: There are several extreme (and unreasonable) values on these two columns that we will have to deal with. For example, the maximum value for Age is 279 which is questionable. Similarly, the maximum value for number of working hours per week is 475 hours, which is wild since a week only has 168 hours. \n",
    "- `ConvertedComp`: Because we are interested in classifying income range, we will divide the values in this column into 4 categories: **< 25k, < 50k, < 100k, > 100k**"
   ]
  },
  {
   "cell_type": "code",
   "execution_count": 19,
   "metadata": {
    "colab": {
     "base_uri": "https://localhost:8080/",
     "height": 553
    },
    "id": "XNEvxYdpQ2ss",
    "outputId": "7a5c7451-19f1-4c90-a5c4-4fc50ba5211d"
   },
   "outputs": [
    {
     "data": {
      "image/png": "[encoded data removed]",
      "text/plain": [
       "<Figure size 1440x1080 with 6 Axes>"
      ]
     },
     "metadata": {
      "needs_background": "light"
     },
     "output_type": "display_data"
    }
   ],
   "source": [
    "# Remove extreme values for Age and WorkWeekHrs\n",
    "preprocess.drop(preprocess.loc[preprocess['Age']==279].index, inplace=True)\n",
    "preprocess.drop(preprocess.loc[preprocess['WorkWeekHrs']>(24*7)].index, inplace=True)\n",
    "\n",
    "# Check for distribution again \n",
    "num_cols.hist(bins=50,figsize=(20,15))\n",
    "plt.show()"
   ]
  },
  {
   "cell_type": "code",
   "execution_count": null,
   "outputs": [],
   "source": [
    "# Find the MODE value for these features: 'Age1stCode', 'YearsCode', 'YearsCodePro'\n",
    "preprocess['Age1stCode'].value_counts()\n",
    "preprocess['YearsCode'].value_counts()\n",
    "preprocess['YearsCodePro'].value_counts()"
   ],
   "metadata": {
    "collapsed": false,
    "pycharm": {
     "name": "#%%\n"
    }
   }
  },
  {
   "cell_type": "code",
   "execution_count": null,
   "outputs": [],
   "source": [
    "# Replace highest/lowest values with the corresponding float value\n",
    "# Replace 'notmentioned' values with the MODE value\n",
    "preprocess['Age1stCode'] = preprocess['Age1stCode'].replace(\"younger than 5 years\", \"4\")\n",
    "preprocess['Age1stCode'] = preprocess['Age1stCode'].replace(\"older than 85\", \"86\")\n",
    "preprocess['Age1stCode'] = preprocess['Age1stCode'].replace(\"notmentioned\", \"14\")\n",
    "\n",
    "preprocess['YearsCode'] = preprocess['YearsCode'].replace(\"less than 1 year\", \"0.5\")\n",
    "preprocess['YearsCode'] = preprocess['YearsCode'].replace(\"more than 50 years\", \"51\")\n",
    "preprocess['YearsCode'] = preprocess['YearsCode'].replace(\"notmentioned\", \"10\")\n",
    "\n",
    "preprocess['YearsCodePro'] = preprocess['YearsCodePro'].replace(\"less than 1 year\", \"0.5\")\n",
    "preprocess['YearsCodePro'] = preprocess['YearsCodePro'].replace(\"more than 50 years\", \"51\")\n",
    "preprocess['YearsCodePro'] = preprocess['YearsCodePro'].replace(\"notmentioned\", \"3\")"
   ],
   "metadata": {
    "collapsed": false,
    "pycharm": {
     "name": "#%%\n"
    }
   }
  },
  {
   "cell_type": "code",
   "execution_count": null,
   "outputs": [],
   "source": [
    "# Cast 'Age1stCode', 'YearsCode', 'YearsCodePro' to float type\n",
    "for col in ['Age1stCode', 'YearsCode', 'YearsCodePro']:\n",
    "    preprocess[col] = preprocess[col].astype('float64')"
   ],
   "metadata": {
    "collapsed": false,
    "pycharm": {
     "name": "#%%\n"
    }
   }
  },
  {
   "cell_type": "markdown",
   "source": [
    "#### Handle impossible values and outliers\n",
    "- The Age of Coding The First Time should not be greater than the Age\n",
    "- Years of Coding Professionally should not be greater than Years of Coding\n",
    "- I will drop rows that contain these impossible values"
   ],
   "metadata": {
    "collapsed": false,
    "pycharm": {
     "name": "#%% md\n"
    }
   }
  },
  {
   "cell_type": "code",
   "execution_count": null,
   "outputs": [],
   "source": [
    "preprocess.drop(preprocess[preprocess['Age1stCode'] > preprocess['Age']].index, inplace = True)\n",
    "preprocess.drop(preprocess[preprocess['YearsCodePro'] > preprocess['YearsCode']].index, inplace = True)"
   ],
   "metadata": {
    "collapsed": false,
    "pycharm": {
     "name": "#%%\n"
    }
   }
  },
  {
   "cell_type": "code",
   "execution_count": null,
   "outputs": [],
   "source": [
    "cols = ['Age', 'Age1stCode', 'WorkWeekHrs', 'YearsCode', 'ConvertedComp']\n",
    "sns.pairplot(preprocess[cols], height = 2.5, kind='scatter', diag_kind='hist')"
   ],
   "metadata": {
    "collapsed": false,
    "pycharm": {
     "name": "#%%\n"
    }
   }
  },
  {
   "cell_type": "markdown",
   "source": [
    "As could be seen from the scatter plot, there seems to be some outliers of 'Age' and 'Age1stCode' feature\n",
    "I will drop instances with Age > 80 and Age1stCode > 75"
   ],
   "metadata": {
    "collapsed": false,
    "pycharm": {
     "name": "#%% md\n"
    }
   }
  },
  {
   "cell_type": "code",
   "execution_count": null,
   "outputs": [],
   "source": [
    "outliers_df = preprocess.loc[(preprocess['Age'] > 80) | (preprocess['Age1stCode'] > 75)]\n",
    "preprocess.drop(outliers_df.index, inplace = True)"
   ],
   "metadata": {
    "collapsed": false,
    "pycharm": {
     "name": "#%%\n"
    }
   }
  },
  {
   "cell_type": "markdown",
   "source": [
    "For those instances with YearsCode > Age, I will calculate new age = YearsCode + Age1stCode, and use this new age to replace with the impossible Age value"
   ],
   "metadata": {
    "collapsed": false,
    "pycharm": {
     "name": "#%% md\n"
    }
   }
  },
  {
   "cell_type": "code",
   "execution_count": null,
   "outputs": [],
   "source": [
    "preprocess[preprocess['YearsCode'] > preprocess['Age']]\n",
    "preprocess.loc[preprocess['YearsCode'] > preprocess['Age'], ['Age']] = preprocess['YearsCode'] + preprocess['Age1stCode']"
   ],
   "metadata": {
    "collapsed": false,
    "pycharm": {
     "name": "#%%\n"
    }
   }
  },
  {
   "cell_type": "code",
   "execution_count": null,
   "outputs": [],
   "source": [
    "# Generate copy of ConvertedComp column\n",
    "preprocess[\"ConvertedComp_Copy\"] = preprocess[\"ConvertedComp\"]"
   ],
   "metadata": {
    "collapsed": false,
    "pycharm": {
     "name": "#%%\n"
    }
   }
  },
  {
   "cell_type": "code",
   "execution_count": 20,
   "metadata": {
    "id": "ONXI8M4OQ_rT"
   },
   "outputs": [],
   "source": [
    "# Create categories for compensation\n",
    "preprocess[\"ConvertedComp\"] = pd.cut(preprocess[\"ConvertedComp\"],\n",
    "                               bins=[0, 25000, 50000, 100000, np.inf],\n",
    "                               labels=['< 25k', '< 50k', '< 100k', '> 100k'],\n",
    "                               include_lowest=True)\n",
    "preprocess['ConvertedComp'].hist()"
   ]
  },
  {
   "cell_type": "code",
   "execution_count": 21,
   "metadata": {
    "colab": {
     "base_uri": "https://localhost:8080/",
     "height": 285
    },
    "id": "dtds0ZXgRC4d",
    "outputId": "bda28b64-23b1-41a3-8490-5e37744a22df"
   },
   "outputs": [
    {
     "data": {
      "text/plain": [
       "<AxesSubplot:>"
      ]
     },
     "execution_count": 21,
     "metadata": {},
     "output_type": "execute_result"
    },
    {
     "data": {
      "image/png": "[encoded data removed]",
      "text/plain": [
       "<Figure size 432x288 with 1 Axes>"
      ]
     },
     "metadata": {
      "needs_background": "light"
     },
     "output_type": "display_data"
    }
   ],
   "source": [
    "preprocess.info()"
   ]
  },
  {
   "cell_type": "markdown",
   "metadata": {
    "id": "OYKgJ-3uE_ef"
   },
   "source": [
    "## Task 1.2 Data Exploration"
   ]
  },
  {
   "cell_type": "markdown",
   "metadata": {
    "id": "iv2gTCSpXKLP"
   },
   "source": [
    "### Exploring individual columns"
   ]
  },
  {
   "cell_type": "markdown",
   "metadata": {
    "id": "hFBQo_nORvi9"
   },
   "source": [
    "**Column 1: `Age`**"
   ]
  },
  {
   "cell_type": "code",
   "execution_count": 22,
   "metadata": {
    "colab": {
     "base_uri": "https://localhost:8080/",
     "height": 319
    },
    "id": "MvU4F_99XOph",
    "outputId": "05b21b64-3fd1-47b2-cc74-13ae37f50c85"
   },
   "outputs": [
    {
     "data": {
      "text/plain": [
       "Text(0.5, 0, 'Age (years)')"
      ]
     },
     "execution_count": 22,
     "metadata": {},
     "output_type": "execute_result"
    },
    {
     "data": {
      "image/png": "[encoded data removed]",
      "text/plain": [
       "<Figure size 432x288 with 1 Axes>"
      ]
     },
     "metadata": {
      "needs_background": "light"
     },
     "output_type": "display_data"
    }
   ],
   "source": [
    "preprocess['Age'].plot(kind='hist')\n",
    "plt.title('Age distribution of survey respondents')\n",
    "plt.xlabel('Age (years)')"
   ]
  },
  {
   "cell_type": "markdown",
   "metadata": {
    "id": "8U1VGT1dRzmM"
   },
   "source": [
    "**Column 2: `Employment`**"
   ]
  },
  {
   "cell_type": "code",
   "execution_count": 23,
   "metadata": {
    "colab": {
     "base_uri": "https://localhost:8080/",
     "height": 319
    },
    "id": "UTA14sI5XSsd",
    "outputId": "089ed640-b280-4c57-af36-f8aede04c822"
   },
   "outputs": [
    {
     "data": {
      "text/plain": [
       "Text(0, 0.5, 'Employment')"
      ]
     },
     "execution_count": 23,
     "metadata": {},
     "output_type": "execute_result"
    },
    {
     "data": {
      "image/png": "[encoded data removed]",
      "text/plain": [
       "<Figure size 432x288 with 1 Axes>"
      ]
     },
     "metadata": {
      "needs_background": "light"
     },
     "output_type": "display_data"
    }
   ],
   "source": [
    "preprocess['Employment'].value_counts().plot(kind='barh')\n",
    "plt.title('Employment status among survey respondents')\n",
    "plt.xlabel('Frequency')\n",
    "plt.ylabel('Employment')"
   ]
  },
  {
   "cell_type": "markdown",
   "metadata": {
    "id": "ZKBXYGEfR1cu"
   },
   "source": [
    "**Column 3: `UndergradMajor`**"
   ]
  },
  {
   "cell_type": "code",
   "execution_count": 24,
   "metadata": {
    "colab": {
     "base_uri": "https://localhost:8080/",
     "height": 339
    },
    "id": "3iD7vkmoXWX1",
    "outputId": "8613b339-4e03-4722-aa2d-a7a51cde84f5"
   },
   "outputs": [
    {
     "data": {
      "text/plain": [
       "Text(0, 0.5, 'Major')"
      ]
     },
     "execution_count": 24,
     "metadata": {},
     "output_type": "execute_result"
    },
    {
     "data": {
      "image/png": "[encoded data removed]",
      "text/plain": [
       "<Figure size 432x288 with 1 Axes>"
      ]
     },
     "metadata": {
      "needs_background": "light"
     },
     "output_type": "display_data"
    }
   ],
   "source": [
    "preprocess['UndergradMajor'].value_counts().plot(kind='barh')\n",
    "plt.title('Undergraduate Major among survey respondents')\n",
    "plt.xlabel('Frequency')\n",
    "plt.ylabel('Major')"
   ]
  },
  {
   "cell_type": "markdown",
   "metadata": {
    "id": "DHz3meg-XcBW"
   },
   "source": [
    "### Exploring relationships between columns/attributes"
   ]
  },
  {
   "cell_type": "markdown",
   "metadata": {
    "id": "jRKysVFLXcre"
   },
   "source": [
    "**Pair 1: `JobFactors` and `Gender`**"
   ]
  },
  {
   "cell_type": "markdown",
   "metadata": {
    "id": "OibVPKKgXd83"
   },
   "source": [
    "**Pair 2: `DevType` and `ConvertedComp`**"
   ]
  },
  {
   "cell_type": "markdown",
   "metadata": {
    "id": "FCEBBSI9XfZM"
   },
   "source": [
    "**Pair 3: `WorkWeekHrs` and `JobSat`**"
   ]
  },
  {
   "cell_type": "markdown",
   "metadata": {
    "id": "KSqWV6ezFCpg"
   },
   "source": [
    "## Task 2 Data Modeling\n"
   ]
  },
  {
   "cell_type": "code",
   "execution_count": 25,
   "metadata": {
    "id": "NuZBoslrSMlt"
   },
   "outputs": [],
   "source": [
    "# shuffle & create train test split \n",
    "from sklearn.model_selection import StratifiedShuffleSplit\n",
    "\n",
    "split = StratifiedShuffleSplit(n_splits=1, test_size=0.2, random_state=42)\n",
    "for train_index, test_index in split.split(preprocess, preprocess[\"ConvertedComp\"]):\n",
    "    strat_train = preprocess.iloc[train_index]\n",
    "    strat_test = preprocess.iloc[test_index]"
   ]
  },
  {
   "cell_type": "markdown",
   "metadata": {},
   "source": [
    "<h2>Data Transformation </h2>"
   ]
  },
  {
   "cell_type": "code",
   "execution_count": 26,
   "metadata": {
    "id": "j8_x4OMvSSH7"
   },
   "outputs": [],
   "source": [
    "# start from here bois\n",
    "df = preprocess"
   ]
  },
  {
   "cell_type": "markdown",
   "metadata": {},
   "source": [
    "<b>LightGBM Model</b>"
   ]
  },
  {
   "cell_type": "markdown",
   "metadata": {},
   "source": [
    "<hr>\n",
    "First of all, we choose columns that has enough features to train the model. By having a close look into the dataframe, we might select some important features that can be helpful such as:  <b><i>MainBranch, Country, Employment, CompFreq, OpSys, OrgSize, EdLevel, ConvertedComp, WorkWeekHrs, Age, YearsCode, YearsCodePro, NEWOvertime</b></i>. \n",
    "\n",
    "<b><i>DevType</i></b> is also a very good feature since it can help to predict which type of developer might affect the salary the most. But before using this feature, we need to pre-process the data since it is currently very hard to train with the value.\n",
    "\n",
    "<br>We start by pre-processing <b><i>YearsCode</b></i> and <b><i>YearsCodePro</b></i> by dropping value that has no actual meaning in our database. Then we decide to convert <i>'less than 1 year'</i> and <i>'more than 50 years'</i> categories to numberic <i>0</i> and <i>51</i>. After that, we should convert all data type of 2 categories to numeric.\n",
    "\n",
    "<hr>"
   ]
  },
  {
   "cell_type": "code",
   "execution_count": 27,
   "metadata": {},
   "outputs": [],
   "source": [
    "#drop non-meaning value\n",
    "df = df[df.YearsCode != 'notmentioned']\n",
    "df = df[df.YearsCodePro != 'notmentioned']\n",
    "#Convert columns to categories\n",
    "df['YearsCode'] = df['YearsCode'].astype('category')\n",
    "df['YearsCodePro'] = df['YearsCodePro'].astype('category')\n",
    "#Adding new categories\n",
    "df['YearsCode'] = df['YearsCode'].cat.add_categories('0')\n",
    "df['YearsCode'] = df['YearsCode'].cat.add_categories('51')\n",
    "df['YearsCodePro'] = df['YearsCodePro'].cat.add_categories('0')\n",
    "df['YearsCodePro'] = df['YearsCodePro'].cat.add_categories('51')\n",
    "#Classifying the suitable entries \n",
    "df.loc[(df['YearsCode'].isin([\"less than 1 year\"])),['YearsCode']] = \"0\"\n",
    "df.loc[(df['YearsCode'].isin([\"more than 50 years\"])),['YearsCode']] = \"51\"\n",
    "df.loc[(df['YearsCodePro'].isin([\"less than 1 year\"])),['YearsCodePro']] = \"0\"\n",
    "df.loc[(df['YearsCodePro'].isin([\"more than 50 years\"])),['YearsCodePro']] = \"51\"\n",
    "#Converting the columns' datatypes to numeric \n",
    "df[\"YearsCode\"] = pd.to_numeric(df[\"YearsCode\"], errors='raise')\n",
    "df[\"YearsCodePro\"] = pd.to_numeric(df[\"YearsCodePro\"], errors='raise')"
   ]
  },
  {
   "cell_type": "markdown",
   "metadata": {},
   "source": [
    "<hr>OK, now that both columns are numbers, let's eliminate nonsensical choices. We could set both to null for problematic rows as well -- but these values are critical for the analysis we have planned, so that wouldn't help us much. So we just drop them.<hr>"
   ]
  },
  {
   "cell_type": "code",
   "execution_count": 28,
   "metadata": {},
   "outputs": [],
   "source": [
    "df = df.loc[(df['YearsCode'] >= df['YearsCodePro'])]"
   ]
  },
  {
   "cell_type": "markdown",
   "metadata": {},
   "source": [
    "<hr>We can repeat all the process above with <b><i>NewOvertime</i></b>, with the difference of adding new number categories <i>'0', '1', '2', '3', '4'</i> and start to replace in turn order with old categories, as the lowest number represents the lowest frequency <i>'never'</i> and the highest represents high frequence <i>'often'</i>.\n",
    "<hr>"
   ]
  },
  {
   "cell_type": "code",
   "execution_count": 29,
   "metadata": {},
   "outputs": [],
   "source": [
    "#drop non-meaning value\n",
    "df = df[df.NEWOvertime != 'notmentioned']\n",
    "#Convert columns to categories\n",
    "df['NEWOvertime'] = df['NEWOvertime'].astype('category')\n",
    "#Adding new categories\n",
    "df['NEWOvertime'] = df['NEWOvertime'].cat.add_categories('0')\n",
    "df['NEWOvertime'] = df['NEWOvertime'].cat.add_categories('1')\n",
    "df['NEWOvertime'] = df['NEWOvertime'].cat.add_categories('2')\n",
    "df['NEWOvertime'] = df['NEWOvertime'].cat.add_categories('3')\n",
    "df['NEWOvertime'] = df['NEWOvertime'].cat.add_categories('4')\n",
    "#Classifying the suitable entries\n",
    "df.loc[(df['NEWOvertime'].isin([\"never\"])),['NEWOvertime']] = \"0\"\n",
    "df.loc[(df['NEWOvertime'].isin([\"rarely: 1-2 days per year or less\"])),['NEWOvertime']] = \"1\"\n",
    "df.loc[(df['NEWOvertime'].isin([\"occasionally: 1-2 days per quarter but less than monthly\"])),['NEWOvertime']] = \"2\"\n",
    "df.loc[(df['NEWOvertime'].isin([\"sometimes: 1-2 days per month but less than weekly\"])),['NEWOvertime']] = \"3\"\n",
    "df.loc[(df['NEWOvertime'].isin([\"often: 1-2 days per week or more\"])),['NEWOvertime']] = \"4\"\n",
    "#Converting the columns' datatypes to numeric \n",
    "df[\"NEWOvertime\"] = pd.to_numeric(df[\"NEWOvertime\"], errors='raise')"
   ]
  },
  {
   "cell_type": "markdown",
   "metadata": {},
   "source": [
    "<hr>We see some features are in categorical type, which is not ideally to train the model. So we create a function to encode the data to numeric types, using <b>label encoding</b>\n",
    "<hr>"
   ]
  },
  {
   "cell_type": "code",
   "execution_count": 30,
   "metadata": {},
   "outputs": [],
   "source": [
    "# Import label encoder\n",
    "from sklearn import preprocessing\n",
    "\n",
    "label_encoder = preprocessing.LabelEncoder()\n",
    "# transform data\n",
    "def label_encode(column, dataset):\n",
    "    dataset[column] = label_encoder.fit_transform(dataset[column])"
   ]
  },
  {
   "cell_type": "markdown",
   "metadata": {},
   "source": [
    "<hr>Now we can start encode by calling <b><i>label_encode</i></b> method.\n",
    "<hr>"
   ]
  },
  {
   "cell_type": "code",
   "execution_count": 31,
   "metadata": {},
   "outputs": [],
   "source": [
    "## Encode labels in columns.\n",
    "LabEnArr = ['Country', 'Employment', 'CompFreq', 'OpSys', 'OrgSize', 'EdLevel', 'MainBranch']\n",
    "for i in LabEnArr:\n",
    "    label_encode(i, df)"
   ]
  },
  {
   "cell_type": "markdown",
   "metadata": {},
   "source": [
    "<hr>Now we can work on <b><i>DevType</i></b>. In this case, we will divide it into each type of developer that we need, then mark it as <b><i>True</i></b> if the data contain the value. Then we set all other values as <b><i>False</i></b>. Because there are a lot of type as a <b>developer</b>: back-end, front-end, full-stack, etc., therefore we will just simply keep it as one type instead of splitting it.<hr>"
   ]
  },
  {
   "cell_type": "code",
   "execution_count": 32,
   "metadata": {},
   "outputs": [],
   "source": [
    "#method to check if the user have specific role that we want\n",
    "def get_DevType(type, data):\n",
    "    column = 'DevType_' + type\n",
    "    data['DevType_' + type]= data['DevType'].copy()\n",
    "    data.loc[data[column].str.contains(type), column] = True\n",
    "    data[column] = np.where(data[column].isin([True]), data[column], False)\n",
    "    data[column] = data[column].astype(bool)"
   ]
  },
  {
   "cell_type": "code",
   "execution_count": 33,
   "metadata": {},
   "outputs": [],
   "source": [
    "#choose which type of developer that we need\n",
    "DevTypeArr = ['academic researcher', 'data or business analyst', 'data scientist or machine learning specialist', 'database administrator',\n",
    "             'designer', 'developer', 'devops specialist', 'educator', 'engineer', 'engineering manager', 'marketing or sales professional', \n",
    "             'product manager', 'scientist', 'senior executive', 'system administrator']\n",
    "\n",
    "for i in DevTypeArr:\n",
    "    get_DevType(i, df)"
   ]
  },
  {
   "cell_type": "markdown",
   "metadata": {},
   "source": [
    "<hr>Finally, we eliminate nonsensical choice and outliers.\n",
    "<hr>"
   ]
  },
  {
   "cell_type": "code",
   "execution_count": 34,
   "metadata": {},
   "outputs": [],
   "source": [
    "#remove outliers\n",
    "df = df.loc[(df['Age'] > 5)]\n",
    "df = df.loc[(df['Age'] < 80)]\n",
    "#remove impossible value\n",
    "df = df.loc[(df['Age'] > df['YearsCode'])]\n",
    "df = df.loc[(df['Age'] > df['YearsCodePro'])]\n",
    "df = df.loc[(df['WorkWeekHrs'] < 24*7)]"
   ]
  },
  {
   "cell_type": "markdown",
   "metadata": {},
   "source": [
    "<hr>Now we can split the dataset\n",
    "<hr>"
   ]
  },
  {
   "cell_type": "code",
   "execution_count": 35,
   "metadata": {},
   "outputs": [],
   "source": [
    "#copy DevType features to new dataframe\n",
    "DevType_df = df.loc[:,df.columns.str.startswith('DevType_')]"
   ]
  },
  {
   "cell_type": "code",
   "execution_count": 36,
   "metadata": {},
   "outputs": [],
   "source": [
    "#split X, y\n",
    "X = df[['MainBranch', 'Country', 'Employment', 'CompFreq', 'OpSys', 'OrgSize', 'EdLevel', 'WorkWeekHrs',\n",
    "             'Age', 'YearsCode', 'YearsCodePro', 'NEWOvertime']]\n",
    "y = df['ConvertedComp']\n",
    "\n",
    "#merge devtype features with remaining data\n",
    "X = pd.concat([X, DevType_df], axis=1)"
   ]
  },
  {
   "cell_type": "code",
   "execution_count": 37,
   "metadata": {},
   "outputs": [],
   "source": [
    "#KFold cross-validation\n",
    "from sklearn.model_selection import KFold\n",
    "\n",
    "kf = KFold(n_splits=5, random_state=42, shuffle=True)\n",
    "\n",
    "for train_index, test_index in kf.split(X, y):\n",
    "    X_train, X_test = X.iloc[train_index], X.iloc[test_index]\n",
    "    y_train, y_test = y.iloc[train_index], y.iloc[test_index]"
   ]
  },
  {
   "cell_type": "markdown",
   "metadata": {},
   "source": [
    "<b><h3>LightGBM Model Development and Training</h3><b>"
   ]
  },
  {
   "cell_type": "code",
   "execution_count": 38,
   "metadata": {},
   "outputs": [],
   "source": [
    "# Parameter Tuning\n",
    "para_tuning = {'boosting_type': 'gbdt', 'colsample_bytree': 1.0,\n",
    "               'importance_type': 'split', 'learning_rate': 0.1, 'max_depth': -1,\n",
    "               'min_child_samples': 20, 'min_child_weight': 0.001, 'min_split_gain': 0.0,\n",
    "               'n_estimators': 100, 'n_jobs': -1, 'num_leaves': 31,\n",
    "               'random_state': 42, 'reg_alpha': 0.0, 'reg_lambda': 0.0, 'silent': True,\n",
    "               'subsample': 1.0, 'subsample_for_bin': 200000, 'subsample_freq': 0} "
   ]
  },
  {
   "cell_type": "code",
   "execution_count": 39,
   "metadata": {},
   "outputs": [
    {
     "name": "stderr",
     "output_type": "stream",
     "text": [
      "C:\\Users\\datb9\\AppData\\Local\\Packages\\PythonSoftwareFoundation.Python.3.8_qbz5n2kfra8p0\\LocalCache\\local-packages\\Python38\\site-packages\\lightgbm\\sklearn.py:598: UserWarning: 'silent' argument is deprecated and will be removed in a future release of LightGBM. Pass 'verbose' parameter via keyword arguments instead.\n",
      "  _log_warning(\"'silent' argument is deprecated and will be removed in a future release of LightGBM. \"\n"
     ]
    }
   ],
   "source": [
    "# build the lightgbm model\n",
    "import lightgbm as lgb\n",
    "\n",
    "clf = lgb.LGBMClassifier(**para_tuning)\n",
    "clf = clf.fit(X_train, y_train)\n",
    "\n",
    "# predict the results\n",
    "y_pred=clf.predict(X_test)"
   ]
  },
  {
   "cell_type": "code",
   "execution_count": 40,
   "metadata": {},
   "outputs": [
    {
     "name": "stdout",
     "output_type": "stream",
     "text": [
      "\n",
      "              precision    recall  f1-score   support\n",
      "\n",
      "      < 100k       0.64      0.69      0.66      1958\n",
      "       < 25k       0.76      0.82      0.79      1646\n",
      "       < 50k       0.57      0.52      0.54      1481\n",
      "      > 100k       0.74      0.67      0.71      1480\n",
      "\n",
      "    accuracy                           0.68      6565\n",
      "   macro avg       0.68      0.68      0.68      6565\n",
      "weighted avg       0.68      0.68      0.68      6565\n",
      "\n",
      "\n",
      "Confusion Matrix\n",
      " [[1343   55  293  267]\n",
      " [  48 1353  221   24]\n",
      " [ 341  309  771   60]\n",
      " [ 355   52   76  997]]\n",
      "\n",
      "True Positives(TP) =  1343\n",
      "\n",
      "True Negatives(TN) =  1353\n",
      "\n",
      "False Positives(FP) =  55\n",
      "\n",
      "False Negatives(FN) =  48\n",
      "\n",
      "LightGBM Model accuracy score: 0.6800\n"
     ]
    }
   ],
   "source": [
    "from sklearn.metrics import accuracy_score\n",
    "from sklearn.metrics import classification_report\n",
    "from sklearn.metrics import confusion_matrix\n",
    "print('\\n{}'.format(classification_report(y_test, y_pred)))\n",
    "\n",
    "cm = confusion_matrix(y_test, y_pred)\n",
    "print('\\nConfusion Matrix\\n', cm)\n",
    "print('\\nTrue Positives(TP) = ', cm[0,0])\n",
    "print('\\nTrue Negatives(TN) = ', cm[1,1])\n",
    "print('\\nFalse Positives(FP) = ', cm[0,1])\n",
    "print('\\nFalse Negatives(FN) = ', cm[1,0])\n",
    "\n",
    "accuracy=accuracy_score(y_pred, y_test)\n",
    "print('\\nLightGBM Model accuracy score: {0:0.4f}'.format(accuracy_score(y_test, y_pred)))"
   ]
  },
  {
   "cell_type": "markdown",
   "metadata": {},
   "source": [
    "<h4><b>Check for Overfitting</b></h4>"
   ]
  },
  {
   "cell_type": "code",
   "execution_count": 51,
   "metadata": {},
   "outputs": [
    {
     "data": {
      "text/plain": [
       "array([[1343,   55,  293,  267],\n",
       "       [  48, 1353,  221,   24],\n",
       "       [ 341,  309,  771,   60],\n",
       "       [ 355,   52,   76,  997]], dtype=int64)"
      ]
     },
     "execution_count": 51,
     "metadata": {},
     "output_type": "execute_result"
    }
   ],
   "source": [
    "cm"
   ]
  },
  {
   "cell_type": "code",
   "execution_count": 41,
   "metadata": {},
   "outputs": [
    {
     "name": "stdout",
     "output_type": "stream",
     "text": [
      "Training set score: 0.7532\n",
      "Test set score: 0.6800\n"
     ]
    }
   ],
   "source": [
    "# print the scores on training and test set\n",
    "print('Training set score: {:.4f}'.format(clf.score(X_train, y_train)))\n",
    "print('Test set score: {:.4f}'.format(clf.score(X_test, y_test)))"
   ]
  },
  {
   "cell_type": "markdown",
   "metadata": {},
   "source": [
    "The training and test set accuracy are quite comparable. So, we cannot say there is overfitting. \n",
    "\n",
    "Last thing we need to do is to save the model for future investigation."
   ]
  },
  {
   "cell_type": "code",
   "execution_count": 42,
   "metadata": {},
   "outputs": [],
   "source": [
    "# save the model to disk\n",
    "import pickle\n",
    "filename = 'pickle_model.pkl'\n",
    "pickle.dump(clf, open(filename, 'wb'))"
   ]
  },
  {
   "cell_type": "code",
   "execution_count": 43,
   "metadata": {},
   "outputs": [
    {
     "data": {
      "text/plain": [
       "'2.0.2'"
      ]
     },
     "execution_count": 43,
     "metadata": {},
     "output_type": "execute_result"
    }
   ],
   "source": [
    "import flask\n",
    "flask.__version__"
   ]
  },
  {
   "cell_type": "markdown",
   "metadata": {
    "id": "3QxY9efrFF1D"
   },
   "source": [
    "## Task 3 Model deployment & automation"
   ]
  },
  {
   "cell_type": "markdown",
   "metadata": {},
   "source": [
    "This part can be achieved by running <b><i>app.py</i></b> file."
   ]
  },
  {
   "cell_type": "markdown",
   "metadata": {
    "id": "xkypbqQNFKVF"
   },
   "source": [
    "## Task 4 Visualisation dashboard"
   ]
  }
 ],
 "metadata": {
  "colab": {
   "collapsed_sections": [],
   "name": "PDS-A3.ipynb",
   "provenance": [],
   "toc_visible": true
  },
  "kernelspec": {
   "display_name": "Python 3",
   "name": "python3"
  },
  "language_info": {
   "codemirror_mode": {
    "name": "ipython",
    "version": 3
   },
   "file_extension": ".py",
   "mimetype": "text/x-python",
   "name": "python",
   "nbconvert_exporter": "python",
   "pygments_lexer": "ipython3",
   "version": "3.8.10"
  }
 },
 "nbformat": 4,
 "nbformat_minor": 0
}